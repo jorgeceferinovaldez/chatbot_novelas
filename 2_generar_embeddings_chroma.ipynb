{
 "cells": [
  {
   "cell_type": "code",
   "execution_count": 1,
   "id": "a1ac1df1",
   "metadata": {},
   "outputs": [],
   "source": [
    "import os\n",
    "import glob\n",
    "from langchain.text_splitter import RecursiveCharacterTextSplitter\n",
    "from sentence_transformers import SentenceTransformer\n",
    "import chromadb\n",
    "from chromadb.config import Settings\n",
    "from uuid import uuid4\n",
    "import pandas as pd\n",
    "import sys"
   ]
  },
  {
   "cell_type": "markdown",
   "id": "789af824",
   "metadata": {},
   "source": [
    "### Funciones de afines a ambeddings y Chroma"
   ]
  },
  {
   "cell_type": "code",
   "execution_count": 2,
   "id": "f016a414",
   "metadata": {},
   "outputs": [],
   "source": [
    "# cargamos las novelas procesadas desde los archivos .txt\n",
    "def cargar_corpus_procesado(directorio_corpus):\n",
    "    \"\"\"\n",
    "    Carga todos los archivos .txt del corpus procesado.\n",
    "    \n",
    "    Args:\n",
    "        directorio_corpus (str): Ruta al directorio con los archivos procesados\n",
    "        \n",
    "    Returns:\n",
    "        dict: Diccionario con nombre_novela: contenido_texto\n",
    "    \"\"\"\n",
    "    print(f\"Cargando corpus desde: {directorio_corpus}\")\n",
    "    corpus = {}\n",
    "    \n",
    "    # Buscar todos los archivos .txt en el directorio\n",
    "    archivos_txt = glob.glob(os.path.join(directorio_corpus, \"*.txt\"))\n",
    "    \n",
    "    if not archivos_txt:\n",
    "        print(f\"No se encontraron archivos .txt en {directorio_corpus}\")\n",
    "        return corpus\n",
    "    \n",
    "    for archivo in archivos_txt:\n",
    "        nombre_archivo = os.path.basename(archivo)\n",
    "        # Extraer el nombre de la novela (remover '_processed.txt')\n",
    "        nombre_novela = nombre_archivo.replace('_processed.txt', '')\n",
    "        \n",
    "        try:\n",
    "            with open(archivo, 'r', encoding='utf-8') as f:\n",
    "                contenido = f.read()\n",
    "                corpus[nombre_novela] = contenido\n",
    "                print(f\"  Cargada: {nombre_novela}\")\n",
    "        except Exception as e:\n",
    "            print(f\"x Error cargando {archivo}: {e}\")\n",
    "    \n",
    "    print(f\"Total de novelas cargadas: {len(corpus)}\")\n",
    "    return corpus"
   ]
  },
  {
   "cell_type": "code",
   "execution_count": 3,
   "id": "cde4b121",
   "metadata": {},
   "outputs": [],
   "source": [
    "# Dividimos el corpus en chunks más pequeños para generar embeddings\n",
    "def dividir_en_chunks(corpus, chunk_size=1000, chunk_overlap=200):\n",
    "    \"\"\"\n",
    "    Divide el corpus en chunks más pequeños para generar embeddings.\n",
    "    \n",
    "    Args:\n",
    "        corpus (dict): Diccionario con nombre_novela: contenido_texto\n",
    "        chunk_size (int): Tamaño de cada chunk\n",
    "        chunk_overlap (int): Superposición entre chunks\n",
    "        \n",
    "    Returns:\n",
    "        list: Lista de diccionarios con información de cada chunk\n",
    "    \"\"\"\n",
    "    print(f\"\\nDividiendo corpus en chunks...\")\n",
    "    print(f\"Tamaño de chunk: {chunk_size}, Superposición: {chunk_overlap}\")\n",
    "    \n",
    "    text_splitter = RecursiveCharacterTextSplitter(\n",
    "        chunk_size=chunk_size,\n",
    "        chunk_overlap=chunk_overlap,\n",
    "        length_function=len,\n",
    "        separators=[\"\\n\\n\", \"\\n\", \".\", \"!\", \"?\", \",\", \" \", \"\"]\n",
    "    )\n",
    "    \n",
    "    chunks_info = []\n",
    "    \n",
    "    for novela, contenido in corpus.items():\n",
    "        chunks_texto = text_splitter.split_text(contenido)\n",
    "        \n",
    "        for i, chunk in enumerate(chunks_texto):\n",
    "            chunk_info = {\n",
    "                'id': str(uuid4()),\n",
    "                'texto': chunk,\n",
    "                'novela': novela,\n",
    "                'chunk_index': i,\n",
    "                'chunk_size': len(chunk)\n",
    "            }\n",
    "            chunks_info.append(chunk_info)\n",
    "        \n",
    "        print(f\"  - {novela}: {len(chunks_texto)} chunks\")\n",
    "    \n",
    "    print(f\"Total de chunks generados: {len(chunks_info)}\")\n",
    "    return chunks_info\n"
   ]
  },
  {
   "cell_type": "code",
   "execution_count": 4,
   "id": "c618236a",
   "metadata": {},
   "outputs": [],
   "source": [
    "# Inicializamos el modelo de embeddings\n",
    "def inicializar_modelo_embeddings():\n",
    "    \"\"\"\n",
    "    Inicializa el modelo de embeddings.\n",
    "    \n",
    "    Returns:\n",
    "        SentenceTransformer: Modelo de embeddings\n",
    "    \"\"\"\n",
    "    print(\"\\nInicializando modelo de embeddings...\")\n",
    "    model = SentenceTransformer(\n",
    "        \"jinaai/jina-embeddings-v2-small-en\",\n",
    "        trust_remote_code=True\n",
    "    )\n",
    "    print(\"  Modelo inicializado correctamente\")\n",
    "    return model"
   ]
  },
  {
   "cell_type": "code",
   "execution_count": 5,
   "id": "a0b49c4f",
   "metadata": {},
   "outputs": [],
   "source": [
    "# Generamos los embeddings para cada chunk\n",
    "def generar_embeddings(model, chunks_info):\n",
    "    \"\"\"\n",
    "    Genera embeddings para cada chunk.\n",
    "    \n",
    "    Args:\n",
    "        model: Modelo de embeddings\n",
    "        chunks_info (list): Lista de información de chunks\n",
    "        \n",
    "    Returns:\n",
    "        list: Lista de embeddings\n",
    "    \"\"\"\n",
    "    print(f\"\\nGenerando embeddings para {len(chunks_info)} chunks...\")\n",
    "    \n",
    "    embeddings = []\n",
    "    textos = [chunk['texto'] for chunk in chunks_info]\n",
    "    \n",
    "    # Generar embeddings en lotes para eficiencia\n",
    "    batch_size = 32\n",
    "    for i in range(0, len(textos), batch_size):\n",
    "        batch_end = min(i + batch_size, len(textos))\n",
    "        batch_textos = textos[i:batch_end]\n",
    "        batch_embeddings = model.encode(batch_textos, show_progress_bar=True)\n",
    "        embeddings.extend(batch_embeddings)\n",
    "        \n",
    "        if i % (batch_size * 10) == 0:\n",
    "            print(f\"  Procesados {min(i + batch_size, len(textos))}/{len(textos)} chunks\")\n",
    "    \n",
    "    print(f\" {len(embeddings)} embeddings generados\")\n",
    "    return embeddings"
   ]
  },
  {
   "cell_type": "code",
   "execution_count": 6,
   "id": "23b9c15d",
   "metadata": {},
   "outputs": [],
   "source": [
    "# Inicializamos la base de datos Chroma\n",
    "def inicializar_chroma(nombre_coleccion, directorio_persistencia=\"./chroma_novelas_db\"):\n",
    "    \"\"\"\n",
    "    Inicializa la base de datos Chroma.\n",
    "    \n",
    "    Args:\n",
    "        nombre_coleccion (str): Nombre de la colección\n",
    "        directorio_persistencia (str): Directorio donde persistir la BD\n",
    "        \n",
    "    Returns:\n",
    "        tuple: (cliente_chroma, coleccion)\n",
    "    \"\"\"\n",
    "    print(f\"\\nInicializando Chroma...\")\n",
    "    print(f\"Directorio de persistencia: {directorio_persistencia}\")\n",
    "    print(f\"Nombre de colección: {nombre_coleccion}\")\n",
    "    \n",
    "    # Crear directorio si no existe\n",
    "    os.makedirs(directorio_persistencia, exist_ok=True)\n",
    "    \n",
    "    # Configurar cliente Chroma con persistencia\n",
    "    client = chromadb.PersistentClient(\n",
    "        path=directorio_persistencia,\n",
    "        settings=Settings(\n",
    "            anonymized_telemetry=False,\n",
    "            is_persistent=True\n",
    "        )\n",
    "    )\n",
    "    \n",
    "    # Crear o obtener colección\n",
    "    try:\n",
    "        # Intentar eliminar colección existente para empezar limpio\n",
    "        try:\n",
    "            client.delete_collection(name=nombre_coleccion)\n",
    "            print(f\"  Colección existente '{nombre_coleccion}' eliminada\")\n",
    "        except:\n",
    "            pass\n",
    "        \n",
    "        # Crear nueva colección\n",
    "        collection = client.create_collection(\n",
    "            name=nombre_coleccion,\n",
    "            metadata={\"hnsw:space\": \"cosine\"}\n",
    "        )\n",
    "        print(f\"  Colección '{nombre_coleccion}' creada\")\n",
    "        \n",
    "    except Exception as e:\n",
    "        print(f\"Error creando colección: {e}\")\n",
    "        # Si falla la creación, intentar obtener la existente\n",
    "        collection = client.get_collection(name=nombre_coleccion)\n",
    "        print(f\"  Usando colección existente '{nombre_coleccion}'\")\n",
    "    \n",
    "    return client, collection"
   ]
  },
  {
   "cell_type": "code",
   "execution_count": 7,
   "id": "f89c865b",
   "metadata": {},
   "outputs": [],
   "source": [
    "# Cargamos los embeddings y metadatos en Chroma\n",
    "def cargar_a_chroma(collection, embeddings, chunks_info):\n",
    "    \"\"\"\n",
    "    Carga los embeddings y metadatos en Chroma.\n",
    "    \n",
    "    Args:\n",
    "        collection: Colección de Chroma\n",
    "        embeddings (list): Lista de embeddings\n",
    "        chunks_info (list): Lista de información de chunks\n",
    "    \"\"\"\n",
    "    print(f\"\\nCargando {len(embeddings)} embeddings en Chroma...\")\n",
    "    \n",
    "    # Preparar datos para Chroma\n",
    "    ids = [chunk['id'] for chunk in chunks_info]\n",
    "    documents = [chunk['texto'] for chunk in chunks_info]\n",
    "    metadatas = [\n",
    "        {\n",
    "            'novela': chunk['novela'],\n",
    "            'chunk_index': chunk['chunk_index'],\n",
    "            'chunk_size': chunk['chunk_size']\n",
    "        }\n",
    "        for chunk in chunks_info\n",
    "    ]\n",
    "    \n",
    "    # Cargar en lotes\n",
    "    batch_size = 100\n",
    "    total_lotes = (len(embeddings) + batch_size - 1) // batch_size\n",
    "    \n",
    "    for i in range(0, len(embeddings), batch_size):\n",
    "        batch_end = min(i + batch_size, len(embeddings))\n",
    "        lote_actual = (i // batch_size) + 1\n",
    "        \n",
    "        try:\n",
    "            collection.add(\n",
    "                ids=ids[i:batch_end],\n",
    "                embeddings=embeddings[i:batch_end],\n",
    "                documents=documents[i:batch_end],\n",
    "                metadatas=metadatas[i:batch_end]\n",
    "            )\n",
    "            print(f\"    Lote {lote_actual}/{total_lotes} cargado\")\n",
    "        except Exception as e:\n",
    "            print(f\"  x Error en lote {lote_actual}: {e}\")\n",
    "    \n",
    "    # Verificar carga\n",
    "    count = collection.count()\n",
    "    print(f\"  Total de documentos en Chroma: {count}\")\n"
   ]
  },
  {
   "cell_type": "markdown",
   "id": "7fb2ec0a",
   "metadata": {},
   "source": [
    "### Funciones de consulta"
   ]
  },
  {
   "cell_type": "code",
   "execution_count": 8,
   "id": "a4b915c9",
   "metadata": {},
   "outputs": [],
   "source": [
    "# Para consultar a Chroma\n",
    "def consultar_chroma(collection, model, query, n_results=5):\n",
    "    \"\"\"\n",
    "    Realiza una consulta de similitud semántica en Chroma.\n",
    "    \n",
    "    Args:\n",
    "        collection: Colección de Chroma\n",
    "        model: Modelo de embeddings\n",
    "        query (str): Consulta de texto\n",
    "        n_results (int): Número de resultados a devolver\n",
    "        \n",
    "    Returns:\n",
    "        dict: Resultados de la consulta\n",
    "    \"\"\"\n",
    "    print(f\"\\nRealizando consulta: '{query}'\")\n",
    "    \n",
    "    # Generar embedding de la consulta\n",
    "    query_embedding = model.encode(query)\n",
    "    \n",
    "    # Realizar búsqueda\n",
    "    results = collection.query(\n",
    "        query_embeddings=[query_embedding.tolist()],\n",
    "        n_results=n_results,\n",
    "        include=['documents', 'metadatas', 'distances']\n",
    "    )\n",
    "    \n",
    "    print(f\"  Encontrados {len(results['documents'][0])} resultados\")\n",
    "    \n",
    "    # Mostrar resultados\n",
    "    for i, (doc, metadata, distance) in enumerate(zip(\n",
    "        results['documents'][0], \n",
    "        results['metadatas'][0], \n",
    "        results['distances'][0]\n",
    "    )):\n",
    "        print(f\"\\nResultado {i+1} (distancia: {distance:.4f}):\")\n",
    "        print(f\"  Novela: {metadata['novela']}\")\n",
    "        print(f\"  Chunk: {metadata['chunk_index']}\")\n",
    "        print(f\"  Texto: {doc[:200]}...\")\n",
    "    \n",
    "    return results"
   ]
  },
  {
   "cell_type": "code",
   "execution_count": 9,
   "id": "4e8e93d5",
   "metadata": {},
   "outputs": [],
   "source": [
    "# generamos un reporte de la colección\n",
    "def generar_reporte_coleccion(collection, chunks_info, directorio_stats):\n",
    "    \"\"\"\n",
    "    Genera un reporte estadístico de la colección.\n",
    "    \n",
    "    Args:\n",
    "        collection: Colección de Chroma\n",
    "        chunks_info (list): Información de chunks\n",
    "        directorio_stats (str): Directorio para guardar estadísticas\n",
    "    \"\"\"\n",
    "    print(f\"\\nGenerando reporte de la colección...\")\n",
    "    \n",
    "    # Crear directorio si no existe\n",
    "    os.makedirs(directorio_stats, exist_ok=True)\n",
    "    \n",
    "    # Estadísticas por novela\n",
    "    stats_por_novela = {}\n",
    "    for chunk in chunks_info:\n",
    "        novela = chunk['novela']\n",
    "        if novela not in stats_por_novela:\n",
    "            stats_por_novela[novela] = {\n",
    "                'total_chunks': 0,\n",
    "                'total_chars': 0,\n",
    "                'avg_chunk_size': 0\n",
    "            }\n",
    "        stats_por_novela[novela]['total_chunks'] += 1\n",
    "        stats_por_novela[novela]['total_chars'] += chunk['chunk_size']\n",
    "    \n",
    "    # Calcular promedios\n",
    "    for novela, stats in stats_por_novela.items():\n",
    "        stats['avg_chunk_size'] = stats['total_chars'] / stats['total_chunks']\n",
    "    \n",
    "    # Crear DataFrame y guardar\n",
    "    df_stats = pd.DataFrame.from_dict(stats_por_novela, orient='index')\n",
    "    df_stats.index.name = 'novela'\n",
    "    \n",
    "    # Guardar estadísticas\n",
    "    stats_file = os.path.join(directorio_stats, 'embedding_stats.csv')\n",
    "    df_stats.to_csv(stats_file)\n",
    "    \n",
    "    print(f\"  Reporte guardado en: {stats_file}\")\n",
    "    print(\"\\nEstadísticas por novela:\")\n",
    "    print(df_stats.to_string())\n",
    "    \n",
    "    # Estadísticas generales\n",
    "    total_chunks = len(chunks_info)\n",
    "    total_chars = sum(chunk['chunk_size'] for chunk in chunks_info)\n",
    "    avg_chunk_size = total_chars / total_chunks if total_chunks > 0 else 0\n",
    "    \n",
    "    print(f\"\\nEstadísticas generales:\")\n",
    "    print(f\"  Total chunks: {total_chunks}\")\n",
    "    print(f\"  Total caracteres: {total_chars:,}\")\n",
    "    print(f\"  Tamaño promedio de chunk: {avg_chunk_size:.2f}\")\n",
    "    print(f\"  Documentos en Chroma: {collection.count()}\")\n"
   ]
  },
  {
   "cell_type": "markdown",
   "id": "63d7ab00",
   "metadata": {},
   "source": [
    "### Cuerpo principal"
   ]
  },
  {
   "cell_type": "code",
   "execution_count": 10,
   "id": "dac612d4",
   "metadata": {},
   "outputs": [],
   "source": [
    "# Configuración\n",
    "directorio_corpus = \"corpus_procesado\"  \n",
    "directorio_stats = \"estadisticas\"\n",
    "nombre_coleccion = \"novelas_corpus\""
   ]
  },
  {
   "cell_type": "code",
   "execution_count": 11,
   "id": "bed41daa",
   "metadata": {},
   "outputs": [
    {
     "name": "stdout",
     "output_type": "stream",
     "text": [
      "Cargando corpus desde: corpus_procesado\n",
      "  Cargada: La_de_Bringas_314648\n",
      "  Cargada: El_sombrero_de_tres_picos_pg29506\n",
      "  Cargada: Tristana_pg66979\n",
      "  Cargada: La_gaviota_pg23600\n",
      "  Cargada: Pepita_Jimenez_pg17223\n",
      "  Cargada: Su_unico_hijo_pg17341\n",
      "  Cargada: La_desheredada_pg25956\n",
      "  Cargada: Peñas_arriba_pg24127\n",
      "  Cargada: Platero_y_yo_pg9980\n",
      "  Cargada: Los_pazos_de_Ulloa_18005-8_UTF8\n",
      "Total de novelas cargadas: 10\n"
     ]
    }
   ],
   "source": [
    "# Cargamos el corpus procesado\n",
    "corpus = cargar_corpus_procesado(directorio_corpus)\n",
    "if not corpus:\n",
    "    print(\"No se pudo cargar el corpus. Terminando...\")\n",
    "    sys.exit(1)"
   ]
  },
  {
   "cell_type": "code",
   "execution_count": 12,
   "id": "fffdd46c",
   "metadata": {},
   "outputs": [
    {
     "name": "stdout",
     "output_type": "stream",
     "text": [
      "\n",
      "Dividiendo corpus en chunks...\n",
      "Tamaño de chunk: 1000, Superposición: 200\n",
      "  - La_de_Bringas_314648: 638 chunks\n",
      "  - El_sombrero_de_tres_picos_pg29506: 584 chunks\n",
      "  - Tristana_pg66979: 478 chunks\n",
      "  - La_gaviota_pg23600: 743 chunks\n",
      "  - Pepita_Jimenez_pg17223: 472 chunks\n",
      "  - Su_unico_hijo_pg17341: 757 chunks\n",
      "  - La_desheredada_pg25956: 1217 chunks\n",
      "  - Peñas_arriba_pg24127: 1117 chunks\n",
      "  - Platero_y_yo_pg9980: 295 chunks\n",
      "  - Los_pazos_de_Ulloa_18005-8_UTF8: 741 chunks\n",
      "Total de chunks generados: 7042\n"
     ]
    }
   ],
   "source": [
    "# Dividimos en chunks\n",
    "chunks_info = dividir_en_chunks(corpus)"
   ]
  },
  {
   "cell_type": "code",
   "execution_count": 13,
   "id": "c287d541",
   "metadata": {},
   "outputs": [
    {
     "name": "stdout",
     "output_type": "stream",
     "text": [
      "\n",
      "Inicializando modelo de embeddings...\n",
      "  Modelo inicializado correctamente\n"
     ]
    }
   ],
   "source": [
    "# Inicializamos el modelo\n",
    "model = inicializar_modelo_embeddings()"
   ]
  },
  {
   "cell_type": "code",
   "execution_count": 14,
   "id": "5a8a3f21",
   "metadata": {},
   "outputs": [
    {
     "name": "stdout",
     "output_type": "stream",
     "text": [
      "\n",
      "Generando embeddings para 7042 chunks...\n"
     ]
    },
    {
     "data": {
      "application/vnd.jupyter.widget-view+json": {
       "model_id": "c3ce0c16affd4594bce07cf907fa8c2a",
       "version_major": 2,
       "version_minor": 0
      },
      "text/plain": [
       "Batches:   0%|          | 0/1 [00:00<?, ?it/s]"
      ]
     },
     "metadata": {},
     "output_type": "display_data"
    },
    {
     "name": "stdout",
     "output_type": "stream",
     "text": [
      "  Procesados 32/7042 chunks\n"
     ]
    },
    {
     "data": {
      "application/vnd.jupyter.widget-view+json": {
       "model_id": "f5c6c76ec12a49919a082e15cc7b0601",
       "version_major": 2,
       "version_minor": 0
      },
      "text/plain": [
       "Batches:   0%|          | 0/1 [00:00<?, ?it/s]"
      ]
     },
     "metadata": {},
     "output_type": "display_data"
    },
    {
     "data": {
      "application/vnd.jupyter.widget-view+json": {
       "model_id": "0a8c5a5262d34454a0440a1f0cc998f1",
       "version_major": 2,
       "version_minor": 0
      },
      "text/plain": [
       "Batches:   0%|          | 0/1 [00:00<?, ?it/s]"
      ]
     },
     "metadata": {},
     "output_type": "display_data"
    },
    {
     "data": {
      "application/vnd.jupyter.widget-view+json": {
       "model_id": "e26b7bee43d14366af1061d2fd4e4daa",
       "version_major": 2,
       "version_minor": 0
      },
      "text/plain": [
       "Batches:   0%|          | 0/1 [00:00<?, ?it/s]"
      ]
     },
     "metadata": {},
     "output_type": "display_data"
    },
    {
     "data": {
      "application/vnd.jupyter.widget-view+json": {
       "model_id": "ef6e1cde8c8c43be85b1538fcd733333",
       "version_major": 2,
       "version_minor": 0
      },
      "text/plain": [
       "Batches:   0%|          | 0/1 [00:00<?, ?it/s]"
      ]
     },
     "metadata": {},
     "output_type": "display_data"
    },
    {
     "data": {
      "application/vnd.jupyter.widget-view+json": {
       "model_id": "2af759811c0747f5a549ab80f59e1e91",
       "version_major": 2,
       "version_minor": 0
      },
      "text/plain": [
       "Batches:   0%|          | 0/1 [00:00<?, ?it/s]"
      ]
     },
     "metadata": {},
     "output_type": "display_data"
    },
    {
     "data": {
      "application/vnd.jupyter.widget-view+json": {
       "model_id": "6b81e064c1b94c06b38204c7af37e0e7",
       "version_major": 2,
       "version_minor": 0
      },
      "text/plain": [
       "Batches:   0%|          | 0/1 [00:00<?, ?it/s]"
      ]
     },
     "metadata": {},
     "output_type": "display_data"
    },
    {
     "data": {
      "application/vnd.jupyter.widget-view+json": {
       "model_id": "436af859d5fd40b3940934d24852d37f",
       "version_major": 2,
       "version_minor": 0
      },
      "text/plain": [
       "Batches:   0%|          | 0/1 [00:00<?, ?it/s]"
      ]
     },
     "metadata": {},
     "output_type": "display_data"
    },
    {
     "data": {
      "application/vnd.jupyter.widget-view+json": {
       "model_id": "f049892d68c344a3bde3945375d96c4a",
       "version_major": 2,
       "version_minor": 0
      },
      "text/plain": [
       "Batches:   0%|          | 0/1 [00:00<?, ?it/s]"
      ]
     },
     "metadata": {},
     "output_type": "display_data"
    },
    {
     "data": {
      "application/vnd.jupyter.widget-view+json": {
       "model_id": "7ff324d8e4b1447187aa404b55f2233f",
       "version_major": 2,
       "version_minor": 0
      },
      "text/plain": [
       "Batches:   0%|          | 0/1 [00:00<?, ?it/s]"
      ]
     },
     "metadata": {},
     "output_type": "display_data"
    },
    {
     "data": {
      "application/vnd.jupyter.widget-view+json": {
       "model_id": "97042e09978848848fcc72634b2bfb10",
       "version_major": 2,
       "version_minor": 0
      },
      "text/plain": [
       "Batches:   0%|          | 0/1 [00:00<?, ?it/s]"
      ]
     },
     "metadata": {},
     "output_type": "display_data"
    },
    {
     "name": "stdout",
     "output_type": "stream",
     "text": [
      "  Procesados 352/7042 chunks\n"
     ]
    },
    {
     "data": {
      "application/vnd.jupyter.widget-view+json": {
       "model_id": "f074b3c233564f9f8e8f68a84ed478dc",
       "version_major": 2,
       "version_minor": 0
      },
      "text/plain": [
       "Batches:   0%|          | 0/1 [00:00<?, ?it/s]"
      ]
     },
     "metadata": {},
     "output_type": "display_data"
    },
    {
     "data": {
      "application/vnd.jupyter.widget-view+json": {
       "model_id": "9ca4dff4b7204550b85241fc0bcec190",
       "version_major": 2,
       "version_minor": 0
      },
      "text/plain": [
       "Batches:   0%|          | 0/1 [00:00<?, ?it/s]"
      ]
     },
     "metadata": {},
     "output_type": "display_data"
    },
    {
     "data": {
      "application/vnd.jupyter.widget-view+json": {
       "model_id": "5543cc0952e346fca677ad725519adae",
       "version_major": 2,
       "version_minor": 0
      },
      "text/plain": [
       "Batches:   0%|          | 0/1 [00:00<?, ?it/s]"
      ]
     },
     "metadata": {},
     "output_type": "display_data"
    },
    {
     "data": {
      "application/vnd.jupyter.widget-view+json": {
       "model_id": "64ca4451cd9740c5994f76966c77ab03",
       "version_major": 2,
       "version_minor": 0
      },
      "text/plain": [
       "Batches:   0%|          | 0/1 [00:00<?, ?it/s]"
      ]
     },
     "metadata": {},
     "output_type": "display_data"
    },
    {
     "data": {
      "application/vnd.jupyter.widget-view+json": {
       "model_id": "a50a6db0f6b24279b0d8a3ed07402f34",
       "version_major": 2,
       "version_minor": 0
      },
      "text/plain": [
       "Batches:   0%|          | 0/1 [00:00<?, ?it/s]"
      ]
     },
     "metadata": {},
     "output_type": "display_data"
    },
    {
     "data": {
      "application/vnd.jupyter.widget-view+json": {
       "model_id": "c01d89ce7d9648c6acf1ae1a650ae2a8",
       "version_major": 2,
       "version_minor": 0
      },
      "text/plain": [
       "Batches:   0%|          | 0/1 [00:00<?, ?it/s]"
      ]
     },
     "metadata": {},
     "output_type": "display_data"
    },
    {
     "data": {
      "application/vnd.jupyter.widget-view+json": {
       "model_id": "b41d9369c9134aa987d4966520218da3",
       "version_major": 2,
       "version_minor": 0
      },
      "text/plain": [
       "Batches:   0%|          | 0/1 [00:00<?, ?it/s]"
      ]
     },
     "metadata": {},
     "output_type": "display_data"
    },
    {
     "data": {
      "application/vnd.jupyter.widget-view+json": {
       "model_id": "898ba222569c4535a072014baab0bbb2",
       "version_major": 2,
       "version_minor": 0
      },
      "text/plain": [
       "Batches:   0%|          | 0/1 [00:00<?, ?it/s]"
      ]
     },
     "metadata": {},
     "output_type": "display_data"
    },
    {
     "data": {
      "application/vnd.jupyter.widget-view+json": {
       "model_id": "b77bd7bcef5e47488d7c2a152a470a01",
       "version_major": 2,
       "version_minor": 0
      },
      "text/plain": [
       "Batches:   0%|          | 0/1 [00:00<?, ?it/s]"
      ]
     },
     "metadata": {},
     "output_type": "display_data"
    },
    {
     "data": {
      "application/vnd.jupyter.widget-view+json": {
       "model_id": "fb8936c9bf7e43d9958c26f9ba3c2fab",
       "version_major": 2,
       "version_minor": 0
      },
      "text/plain": [
       "Batches:   0%|          | 0/1 [00:00<?, ?it/s]"
      ]
     },
     "metadata": {},
     "output_type": "display_data"
    },
    {
     "name": "stdout",
     "output_type": "stream",
     "text": [
      "  Procesados 672/7042 chunks\n"
     ]
    },
    {
     "data": {
      "application/vnd.jupyter.widget-view+json": {
       "model_id": "8b96a298383e4a3e8881b1936fad768c",
       "version_major": 2,
       "version_minor": 0
      },
      "text/plain": [
       "Batches:   0%|          | 0/1 [00:00<?, ?it/s]"
      ]
     },
     "metadata": {},
     "output_type": "display_data"
    },
    {
     "data": {
      "application/vnd.jupyter.widget-view+json": {
       "model_id": "490ef9fe10a34915824a6c162e3ba0f3",
       "version_major": 2,
       "version_minor": 0
      },
      "text/plain": [
       "Batches:   0%|          | 0/1 [00:00<?, ?it/s]"
      ]
     },
     "metadata": {},
     "output_type": "display_data"
    },
    {
     "data": {
      "application/vnd.jupyter.widget-view+json": {
       "model_id": "405f415c4cd1446a8589b182ae6cbab3",
       "version_major": 2,
       "version_minor": 0
      },
      "text/plain": [
       "Batches:   0%|          | 0/1 [00:00<?, ?it/s]"
      ]
     },
     "metadata": {},
     "output_type": "display_data"
    },
    {
     "data": {
      "application/vnd.jupyter.widget-view+json": {
       "model_id": "eaaa3b1e368f4c85b0d7e801f735c2b4",
       "version_major": 2,
       "version_minor": 0
      },
      "text/plain": [
       "Batches:   0%|          | 0/1 [00:00<?, ?it/s]"
      ]
     },
     "metadata": {},
     "output_type": "display_data"
    },
    {
     "data": {
      "application/vnd.jupyter.widget-view+json": {
       "model_id": "096eb3614cf64b81b5b3cfb96a4f1049",
       "version_major": 2,
       "version_minor": 0
      },
      "text/plain": [
       "Batches:   0%|          | 0/1 [00:00<?, ?it/s]"
      ]
     },
     "metadata": {},
     "output_type": "display_data"
    },
    {
     "data": {
      "application/vnd.jupyter.widget-view+json": {
       "model_id": "4b20c112eada40cf921eaa44631a9977",
       "version_major": 2,
       "version_minor": 0
      },
      "text/plain": [
       "Batches:   0%|          | 0/1 [00:00<?, ?it/s]"
      ]
     },
     "metadata": {},
     "output_type": "display_data"
    },
    {
     "data": {
      "application/vnd.jupyter.widget-view+json": {
       "model_id": "20475501e35748dc8149e2a64ecef143",
       "version_major": 2,
       "version_minor": 0
      },
      "text/plain": [
       "Batches:   0%|          | 0/1 [00:00<?, ?it/s]"
      ]
     },
     "metadata": {},
     "output_type": "display_data"
    },
    {
     "data": {
      "application/vnd.jupyter.widget-view+json": {
       "model_id": "6fcb4689463b445bbff83111560c9916",
       "version_major": 2,
       "version_minor": 0
      },
      "text/plain": [
       "Batches:   0%|          | 0/1 [00:00<?, ?it/s]"
      ]
     },
     "metadata": {},
     "output_type": "display_data"
    },
    {
     "data": {
      "application/vnd.jupyter.widget-view+json": {
       "model_id": "26a999d855c94f30b13295fb6a2459f8",
       "version_major": 2,
       "version_minor": 0
      },
      "text/plain": [
       "Batches:   0%|          | 0/1 [00:00<?, ?it/s]"
      ]
     },
     "metadata": {},
     "output_type": "display_data"
    },
    {
     "data": {
      "application/vnd.jupyter.widget-view+json": {
       "model_id": "5d490cc92c0d4bf1bcef7444feec24c7",
       "version_major": 2,
       "version_minor": 0
      },
      "text/plain": [
       "Batches:   0%|          | 0/1 [00:00<?, ?it/s]"
      ]
     },
     "metadata": {},
     "output_type": "display_data"
    },
    {
     "name": "stdout",
     "output_type": "stream",
     "text": [
      "  Procesados 992/7042 chunks\n"
     ]
    },
    {
     "data": {
      "application/vnd.jupyter.widget-view+json": {
       "model_id": "f11d447237624316aa78c7dd68af3fd5",
       "version_major": 2,
       "version_minor": 0
      },
      "text/plain": [
       "Batches:   0%|          | 0/1 [00:00<?, ?it/s]"
      ]
     },
     "metadata": {},
     "output_type": "display_data"
    },
    {
     "data": {
      "application/vnd.jupyter.widget-view+json": {
       "model_id": "3fbc4c68a1424147826dbd27463e7b43",
       "version_major": 2,
       "version_minor": 0
      },
      "text/plain": [
       "Batches:   0%|          | 0/1 [00:00<?, ?it/s]"
      ]
     },
     "metadata": {},
     "output_type": "display_data"
    },
    {
     "data": {
      "application/vnd.jupyter.widget-view+json": {
       "model_id": "2e1ab4975e124a38bbbb96407802250c",
       "version_major": 2,
       "version_minor": 0
      },
      "text/plain": [
       "Batches:   0%|          | 0/1 [00:00<?, ?it/s]"
      ]
     },
     "metadata": {},
     "output_type": "display_data"
    },
    {
     "data": {
      "application/vnd.jupyter.widget-view+json": {
       "model_id": "8d746b7ebbc64510a95945fb24b99163",
       "version_major": 2,
       "version_minor": 0
      },
      "text/plain": [
       "Batches:   0%|          | 0/1 [00:00<?, ?it/s]"
      ]
     },
     "metadata": {},
     "output_type": "display_data"
    },
    {
     "data": {
      "application/vnd.jupyter.widget-view+json": {
       "model_id": "cae7322ba83a4adb801dca2e8348d426",
       "version_major": 2,
       "version_minor": 0
      },
      "text/plain": [
       "Batches:   0%|          | 0/1 [00:00<?, ?it/s]"
      ]
     },
     "metadata": {},
     "output_type": "display_data"
    },
    {
     "data": {
      "application/vnd.jupyter.widget-view+json": {
       "model_id": "62cf8761831c41fbbb91e16a939ba026",
       "version_major": 2,
       "version_minor": 0
      },
      "text/plain": [
       "Batches:   0%|          | 0/1 [00:00<?, ?it/s]"
      ]
     },
     "metadata": {},
     "output_type": "display_data"
    },
    {
     "data": {
      "application/vnd.jupyter.widget-view+json": {
       "model_id": "d7231c980b0b4afc8d60eba37f480337",
       "version_major": 2,
       "version_minor": 0
      },
      "text/plain": [
       "Batches:   0%|          | 0/1 [00:00<?, ?it/s]"
      ]
     },
     "metadata": {},
     "output_type": "display_data"
    },
    {
     "data": {
      "application/vnd.jupyter.widget-view+json": {
       "model_id": "7283613ae8b74d6ca0b6419b73d3772a",
       "version_major": 2,
       "version_minor": 0
      },
      "text/plain": [
       "Batches:   0%|          | 0/1 [00:00<?, ?it/s]"
      ]
     },
     "metadata": {},
     "output_type": "display_data"
    },
    {
     "data": {
      "application/vnd.jupyter.widget-view+json": {
       "model_id": "f47beb0e377b4503a746f0b1722719cb",
       "version_major": 2,
       "version_minor": 0
      },
      "text/plain": [
       "Batches:   0%|          | 0/1 [00:00<?, ?it/s]"
      ]
     },
     "metadata": {},
     "output_type": "display_data"
    },
    {
     "data": {
      "application/vnd.jupyter.widget-view+json": {
       "model_id": "e592976dfcd14308877b527cfdd4adce",
       "version_major": 2,
       "version_minor": 0
      },
      "text/plain": [
       "Batches:   0%|          | 0/1 [00:00<?, ?it/s]"
      ]
     },
     "metadata": {},
     "output_type": "display_data"
    },
    {
     "name": "stdout",
     "output_type": "stream",
     "text": [
      "  Procesados 1312/7042 chunks\n"
     ]
    },
    {
     "data": {
      "application/vnd.jupyter.widget-view+json": {
       "model_id": "d4ec7150b5f74dee9869bf05bce50825",
       "version_major": 2,
       "version_minor": 0
      },
      "text/plain": [
       "Batches:   0%|          | 0/1 [00:00<?, ?it/s]"
      ]
     },
     "metadata": {},
     "output_type": "display_data"
    },
    {
     "data": {
      "application/vnd.jupyter.widget-view+json": {
       "model_id": "4789468c7bc446f4bf0be53e7f088eab",
       "version_major": 2,
       "version_minor": 0
      },
      "text/plain": [
       "Batches:   0%|          | 0/1 [00:00<?, ?it/s]"
      ]
     },
     "metadata": {},
     "output_type": "display_data"
    },
    {
     "data": {
      "application/vnd.jupyter.widget-view+json": {
       "model_id": "b0a1ec2957574d0c84ccb0a2f20e0d99",
       "version_major": 2,
       "version_minor": 0
      },
      "text/plain": [
       "Batches:   0%|          | 0/1 [00:00<?, ?it/s]"
      ]
     },
     "metadata": {},
     "output_type": "display_data"
    },
    {
     "data": {
      "application/vnd.jupyter.widget-view+json": {
       "model_id": "60b9879e693e4406a8de7da107e9ee83",
       "version_major": 2,
       "version_minor": 0
      },
      "text/plain": [
       "Batches:   0%|          | 0/1 [00:00<?, ?it/s]"
      ]
     },
     "metadata": {},
     "output_type": "display_data"
    },
    {
     "data": {
      "application/vnd.jupyter.widget-view+json": {
       "model_id": "51f61dabdde14b8ca7862cf909dfae30",
       "version_major": 2,
       "version_minor": 0
      },
      "text/plain": [
       "Batches:   0%|          | 0/1 [00:00<?, ?it/s]"
      ]
     },
     "metadata": {},
     "output_type": "display_data"
    },
    {
     "data": {
      "application/vnd.jupyter.widget-view+json": {
       "model_id": "dbc6098a3e954d61b7d0f9f090e3c0ee",
       "version_major": 2,
       "version_minor": 0
      },
      "text/plain": [
       "Batches:   0%|          | 0/1 [00:00<?, ?it/s]"
      ]
     },
     "metadata": {},
     "output_type": "display_data"
    },
    {
     "data": {
      "application/vnd.jupyter.widget-view+json": {
       "model_id": "f8deff12a3e44d37bd8ab4ef2bbd939f",
       "version_major": 2,
       "version_minor": 0
      },
      "text/plain": [
       "Batches:   0%|          | 0/1 [00:00<?, ?it/s]"
      ]
     },
     "metadata": {},
     "output_type": "display_data"
    },
    {
     "data": {
      "application/vnd.jupyter.widget-view+json": {
       "model_id": "4c4c418f344840c8b0254285696736f5",
       "version_major": 2,
       "version_minor": 0
      },
      "text/plain": [
       "Batches:   0%|          | 0/1 [00:00<?, ?it/s]"
      ]
     },
     "metadata": {},
     "output_type": "display_data"
    },
    {
     "data": {
      "application/vnd.jupyter.widget-view+json": {
       "model_id": "f832381b46f3428da9149367b6298178",
       "version_major": 2,
       "version_minor": 0
      },
      "text/plain": [
       "Batches:   0%|          | 0/1 [00:00<?, ?it/s]"
      ]
     },
     "metadata": {},
     "output_type": "display_data"
    },
    {
     "data": {
      "application/vnd.jupyter.widget-view+json": {
       "model_id": "92d8d17cee0047a3bf083a454eac76fd",
       "version_major": 2,
       "version_minor": 0
      },
      "text/plain": [
       "Batches:   0%|          | 0/1 [00:00<?, ?it/s]"
      ]
     },
     "metadata": {},
     "output_type": "display_data"
    },
    {
     "name": "stdout",
     "output_type": "stream",
     "text": [
      "  Procesados 1632/7042 chunks\n"
     ]
    },
    {
     "data": {
      "application/vnd.jupyter.widget-view+json": {
       "model_id": "94b1cb86030041b5bd19a5737fb75a27",
       "version_major": 2,
       "version_minor": 0
      },
      "text/plain": [
       "Batches:   0%|          | 0/1 [00:00<?, ?it/s]"
      ]
     },
     "metadata": {},
     "output_type": "display_data"
    },
    {
     "data": {
      "application/vnd.jupyter.widget-view+json": {
       "model_id": "59c997d57f214354a45fc75b8509a841",
       "version_major": 2,
       "version_minor": 0
      },
      "text/plain": [
       "Batches:   0%|          | 0/1 [00:00<?, ?it/s]"
      ]
     },
     "metadata": {},
     "output_type": "display_data"
    },
    {
     "data": {
      "application/vnd.jupyter.widget-view+json": {
       "model_id": "f4cbbabc2310471fa431fd8a8792da7c",
       "version_major": 2,
       "version_minor": 0
      },
      "text/plain": [
       "Batches:   0%|          | 0/1 [00:00<?, ?it/s]"
      ]
     },
     "metadata": {},
     "output_type": "display_data"
    },
    {
     "data": {
      "application/vnd.jupyter.widget-view+json": {
       "model_id": "bc7564c8e12a49e8a19e2f5e0741687a",
       "version_major": 2,
       "version_minor": 0
      },
      "text/plain": [
       "Batches:   0%|          | 0/1 [00:00<?, ?it/s]"
      ]
     },
     "metadata": {},
     "output_type": "display_data"
    },
    {
     "data": {
      "application/vnd.jupyter.widget-view+json": {
       "model_id": "b1b03ccfe83d418eb28fc24985ccb270",
       "version_major": 2,
       "version_minor": 0
      },
      "text/plain": [
       "Batches:   0%|          | 0/1 [00:00<?, ?it/s]"
      ]
     },
     "metadata": {},
     "output_type": "display_data"
    },
    {
     "data": {
      "application/vnd.jupyter.widget-view+json": {
       "model_id": "fd1e77b4b7164da497fa1daaea9be1e3",
       "version_major": 2,
       "version_minor": 0
      },
      "text/plain": [
       "Batches:   0%|          | 0/1 [00:00<?, ?it/s]"
      ]
     },
     "metadata": {},
     "output_type": "display_data"
    },
    {
     "data": {
      "application/vnd.jupyter.widget-view+json": {
       "model_id": "637cbe089a0a4c13b945c839a502005c",
       "version_major": 2,
       "version_minor": 0
      },
      "text/plain": [
       "Batches:   0%|          | 0/1 [00:00<?, ?it/s]"
      ]
     },
     "metadata": {},
     "output_type": "display_data"
    },
    {
     "data": {
      "application/vnd.jupyter.widget-view+json": {
       "model_id": "d3dc4b604e0d43d98624cf033d45b5c5",
       "version_major": 2,
       "version_minor": 0
      },
      "text/plain": [
       "Batches:   0%|          | 0/1 [00:00<?, ?it/s]"
      ]
     },
     "metadata": {},
     "output_type": "display_data"
    },
    {
     "data": {
      "application/vnd.jupyter.widget-view+json": {
       "model_id": "efb37744654b45798746cf5eab3b341b",
       "version_major": 2,
       "version_minor": 0
      },
      "text/plain": [
       "Batches:   0%|          | 0/1 [00:00<?, ?it/s]"
      ]
     },
     "metadata": {},
     "output_type": "display_data"
    },
    {
     "data": {
      "application/vnd.jupyter.widget-view+json": {
       "model_id": "60a1f243baee4cb5ae5f9f9669ac8db8",
       "version_major": 2,
       "version_minor": 0
      },
      "text/plain": [
       "Batches:   0%|          | 0/1 [00:00<?, ?it/s]"
      ]
     },
     "metadata": {},
     "output_type": "display_data"
    },
    {
     "name": "stdout",
     "output_type": "stream",
     "text": [
      "  Procesados 1952/7042 chunks\n"
     ]
    },
    {
     "data": {
      "application/vnd.jupyter.widget-view+json": {
       "model_id": "09fc03e7e1d2449bac744ea4668fc67d",
       "version_major": 2,
       "version_minor": 0
      },
      "text/plain": [
       "Batches:   0%|          | 0/1 [00:00<?, ?it/s]"
      ]
     },
     "metadata": {},
     "output_type": "display_data"
    },
    {
     "data": {
      "application/vnd.jupyter.widget-view+json": {
       "model_id": "2e68833d14db4318a32969f1f3f949ef",
       "version_major": 2,
       "version_minor": 0
      },
      "text/plain": [
       "Batches:   0%|          | 0/1 [00:00<?, ?it/s]"
      ]
     },
     "metadata": {},
     "output_type": "display_data"
    },
    {
     "data": {
      "application/vnd.jupyter.widget-view+json": {
       "model_id": "fd5dfabfbfb44ff2a09a5f8756be3ca6",
       "version_major": 2,
       "version_minor": 0
      },
      "text/plain": [
       "Batches:   0%|          | 0/1 [00:00<?, ?it/s]"
      ]
     },
     "metadata": {},
     "output_type": "display_data"
    },
    {
     "data": {
      "application/vnd.jupyter.widget-view+json": {
       "model_id": "d6c4aaf8e0ac4eb3b9a0dee550196503",
       "version_major": 2,
       "version_minor": 0
      },
      "text/plain": [
       "Batches:   0%|          | 0/1 [00:00<?, ?it/s]"
      ]
     },
     "metadata": {},
     "output_type": "display_data"
    },
    {
     "data": {
      "application/vnd.jupyter.widget-view+json": {
       "model_id": "430115419746447395458c3c8d57f264",
       "version_major": 2,
       "version_minor": 0
      },
      "text/plain": [
       "Batches:   0%|          | 0/1 [00:00<?, ?it/s]"
      ]
     },
     "metadata": {},
     "output_type": "display_data"
    },
    {
     "data": {
      "application/vnd.jupyter.widget-view+json": {
       "model_id": "63cc322ed2a04006a778699300151133",
       "version_major": 2,
       "version_minor": 0
      },
      "text/plain": [
       "Batches:   0%|          | 0/1 [00:00<?, ?it/s]"
      ]
     },
     "metadata": {},
     "output_type": "display_data"
    },
    {
     "data": {
      "application/vnd.jupyter.widget-view+json": {
       "model_id": "67f2e8d1af564969a7a952b8ca463117",
       "version_major": 2,
       "version_minor": 0
      },
      "text/plain": [
       "Batches:   0%|          | 0/1 [00:00<?, ?it/s]"
      ]
     },
     "metadata": {},
     "output_type": "display_data"
    },
    {
     "data": {
      "application/vnd.jupyter.widget-view+json": {
       "model_id": "0ecd917bdf4c4203b9fd3b6dc52a75d6",
       "version_major": 2,
       "version_minor": 0
      },
      "text/plain": [
       "Batches:   0%|          | 0/1 [00:00<?, ?it/s]"
      ]
     },
     "metadata": {},
     "output_type": "display_data"
    },
    {
     "data": {
      "application/vnd.jupyter.widget-view+json": {
       "model_id": "7f26b458ccdb4df49ad9fa9f4235f386",
       "version_major": 2,
       "version_minor": 0
      },
      "text/plain": [
       "Batches:   0%|          | 0/1 [00:00<?, ?it/s]"
      ]
     },
     "metadata": {},
     "output_type": "display_data"
    },
    {
     "data": {
      "application/vnd.jupyter.widget-view+json": {
       "model_id": "1a7f2922a0cb4ae1b9fce7d6e58c2c85",
       "version_major": 2,
       "version_minor": 0
      },
      "text/plain": [
       "Batches:   0%|          | 0/1 [00:00<?, ?it/s]"
      ]
     },
     "metadata": {},
     "output_type": "display_data"
    },
    {
     "name": "stdout",
     "output_type": "stream",
     "text": [
      "  Procesados 2272/7042 chunks\n"
     ]
    },
    {
     "data": {
      "application/vnd.jupyter.widget-view+json": {
       "model_id": "5d7c7ce0324541589db97efaf3259265",
       "version_major": 2,
       "version_minor": 0
      },
      "text/plain": [
       "Batches:   0%|          | 0/1 [00:00<?, ?it/s]"
      ]
     },
     "metadata": {},
     "output_type": "display_data"
    },
    {
     "data": {
      "application/vnd.jupyter.widget-view+json": {
       "model_id": "245c97c816094ba3a367152123ccfa13",
       "version_major": 2,
       "version_minor": 0
      },
      "text/plain": [
       "Batches:   0%|          | 0/1 [00:00<?, ?it/s]"
      ]
     },
     "metadata": {},
     "output_type": "display_data"
    },
    {
     "data": {
      "application/vnd.jupyter.widget-view+json": {
       "model_id": "ae9fc251ee2d4e3b8841a05195c3a048",
       "version_major": 2,
       "version_minor": 0
      },
      "text/plain": [
       "Batches:   0%|          | 0/1 [00:00<?, ?it/s]"
      ]
     },
     "metadata": {},
     "output_type": "display_data"
    },
    {
     "data": {
      "application/vnd.jupyter.widget-view+json": {
       "model_id": "ecea7a0c64ea4a20a81b14e4c95ab174",
       "version_major": 2,
       "version_minor": 0
      },
      "text/plain": [
       "Batches:   0%|          | 0/1 [00:00<?, ?it/s]"
      ]
     },
     "metadata": {},
     "output_type": "display_data"
    },
    {
     "data": {
      "application/vnd.jupyter.widget-view+json": {
       "model_id": "8105b7538ab247c4bfffafc19122ebd5",
       "version_major": 2,
       "version_minor": 0
      },
      "text/plain": [
       "Batches:   0%|          | 0/1 [00:00<?, ?it/s]"
      ]
     },
     "metadata": {},
     "output_type": "display_data"
    },
    {
     "data": {
      "application/vnd.jupyter.widget-view+json": {
       "model_id": "a267bc421344406388400b6363bae130",
       "version_major": 2,
       "version_minor": 0
      },
      "text/plain": [
       "Batches:   0%|          | 0/1 [00:00<?, ?it/s]"
      ]
     },
     "metadata": {},
     "output_type": "display_data"
    },
    {
     "data": {
      "application/vnd.jupyter.widget-view+json": {
       "model_id": "ca0cf652a4b04e2684308e795c1ef3c6",
       "version_major": 2,
       "version_minor": 0
      },
      "text/plain": [
       "Batches:   0%|          | 0/1 [00:00<?, ?it/s]"
      ]
     },
     "metadata": {},
     "output_type": "display_data"
    },
    {
     "data": {
      "application/vnd.jupyter.widget-view+json": {
       "model_id": "d820129244e44345b07dac00db43802c",
       "version_major": 2,
       "version_minor": 0
      },
      "text/plain": [
       "Batches:   0%|          | 0/1 [00:00<?, ?it/s]"
      ]
     },
     "metadata": {},
     "output_type": "display_data"
    },
    {
     "data": {
      "application/vnd.jupyter.widget-view+json": {
       "model_id": "d5b36201e1d24ba7a3c38f59e0b57e60",
       "version_major": 2,
       "version_minor": 0
      },
      "text/plain": [
       "Batches:   0%|          | 0/1 [00:00<?, ?it/s]"
      ]
     },
     "metadata": {},
     "output_type": "display_data"
    },
    {
     "data": {
      "application/vnd.jupyter.widget-view+json": {
       "model_id": "2bd08d01a1c843ce8185b827de546c1f",
       "version_major": 2,
       "version_minor": 0
      },
      "text/plain": [
       "Batches:   0%|          | 0/1 [00:00<?, ?it/s]"
      ]
     },
     "metadata": {},
     "output_type": "display_data"
    },
    {
     "name": "stdout",
     "output_type": "stream",
     "text": [
      "  Procesados 2592/7042 chunks\n"
     ]
    },
    {
     "data": {
      "application/vnd.jupyter.widget-view+json": {
       "model_id": "f694b4608ad74e81b51e8f7a05bc54f0",
       "version_major": 2,
       "version_minor": 0
      },
      "text/plain": [
       "Batches:   0%|          | 0/1 [00:00<?, ?it/s]"
      ]
     },
     "metadata": {},
     "output_type": "display_data"
    },
    {
     "data": {
      "application/vnd.jupyter.widget-view+json": {
       "model_id": "fff71626ff504ec1a2bd7c703689bf4c",
       "version_major": 2,
       "version_minor": 0
      },
      "text/plain": [
       "Batches:   0%|          | 0/1 [00:00<?, ?it/s]"
      ]
     },
     "metadata": {},
     "output_type": "display_data"
    },
    {
     "data": {
      "application/vnd.jupyter.widget-view+json": {
       "model_id": "4f9c82103f454876ac5c6139c9756fa8",
       "version_major": 2,
       "version_minor": 0
      },
      "text/plain": [
       "Batches:   0%|          | 0/1 [00:00<?, ?it/s]"
      ]
     },
     "metadata": {},
     "output_type": "display_data"
    },
    {
     "data": {
      "application/vnd.jupyter.widget-view+json": {
       "model_id": "7c32043434494e7db0f009ac4a9fecc7",
       "version_major": 2,
       "version_minor": 0
      },
      "text/plain": [
       "Batches:   0%|          | 0/1 [00:00<?, ?it/s]"
      ]
     },
     "metadata": {},
     "output_type": "display_data"
    },
    {
     "data": {
      "application/vnd.jupyter.widget-view+json": {
       "model_id": "82d52b8caf944b4588a03b21cc8f0472",
       "version_major": 2,
       "version_minor": 0
      },
      "text/plain": [
       "Batches:   0%|          | 0/1 [00:00<?, ?it/s]"
      ]
     },
     "metadata": {},
     "output_type": "display_data"
    },
    {
     "data": {
      "application/vnd.jupyter.widget-view+json": {
       "model_id": "49c0401528504c209aa6c005daeed484",
       "version_major": 2,
       "version_minor": 0
      },
      "text/plain": [
       "Batches:   0%|          | 0/1 [00:00<?, ?it/s]"
      ]
     },
     "metadata": {},
     "output_type": "display_data"
    },
    {
     "data": {
      "application/vnd.jupyter.widget-view+json": {
       "model_id": "f312e5c018764e79bf360991762b0dbc",
       "version_major": 2,
       "version_minor": 0
      },
      "text/plain": [
       "Batches:   0%|          | 0/1 [00:00<?, ?it/s]"
      ]
     },
     "metadata": {},
     "output_type": "display_data"
    },
    {
     "data": {
      "application/vnd.jupyter.widget-view+json": {
       "model_id": "9b7dd512fe4e4f6589ceea97f6923ac1",
       "version_major": 2,
       "version_minor": 0
      },
      "text/plain": [
       "Batches:   0%|          | 0/1 [00:00<?, ?it/s]"
      ]
     },
     "metadata": {},
     "output_type": "display_data"
    },
    {
     "data": {
      "application/vnd.jupyter.widget-view+json": {
       "model_id": "157a35a2c40a4c1686eb7c107b4ace70",
       "version_major": 2,
       "version_minor": 0
      },
      "text/plain": [
       "Batches:   0%|          | 0/1 [00:00<?, ?it/s]"
      ]
     },
     "metadata": {},
     "output_type": "display_data"
    },
    {
     "data": {
      "application/vnd.jupyter.widget-view+json": {
       "model_id": "a50342660f1b417e871cfd42d9545c7e",
       "version_major": 2,
       "version_minor": 0
      },
      "text/plain": [
       "Batches:   0%|          | 0/1 [00:00<?, ?it/s]"
      ]
     },
     "metadata": {},
     "output_type": "display_data"
    },
    {
     "name": "stdout",
     "output_type": "stream",
     "text": [
      "  Procesados 2912/7042 chunks\n"
     ]
    },
    {
     "data": {
      "application/vnd.jupyter.widget-view+json": {
       "model_id": "434bf5ef41274911bb46f21e2e667d0d",
       "version_major": 2,
       "version_minor": 0
      },
      "text/plain": [
       "Batches:   0%|          | 0/1 [00:00<?, ?it/s]"
      ]
     },
     "metadata": {},
     "output_type": "display_data"
    },
    {
     "data": {
      "application/vnd.jupyter.widget-view+json": {
       "model_id": "6103a16418b74da7ab55c410ecaba0e5",
       "version_major": 2,
       "version_minor": 0
      },
      "text/plain": [
       "Batches:   0%|          | 0/1 [00:00<?, ?it/s]"
      ]
     },
     "metadata": {},
     "output_type": "display_data"
    },
    {
     "data": {
      "application/vnd.jupyter.widget-view+json": {
       "model_id": "eded6742e3db4d09913619896c0870e5",
       "version_major": 2,
       "version_minor": 0
      },
      "text/plain": [
       "Batches:   0%|          | 0/1 [00:00<?, ?it/s]"
      ]
     },
     "metadata": {},
     "output_type": "display_data"
    },
    {
     "data": {
      "application/vnd.jupyter.widget-view+json": {
       "model_id": "7108ee964d4a444a93fbe484632b7d21",
       "version_major": 2,
       "version_minor": 0
      },
      "text/plain": [
       "Batches:   0%|          | 0/1 [00:00<?, ?it/s]"
      ]
     },
     "metadata": {},
     "output_type": "display_data"
    },
    {
     "data": {
      "application/vnd.jupyter.widget-view+json": {
       "model_id": "7828c26ee2a245e38c011a091eb10151",
       "version_major": 2,
       "version_minor": 0
      },
      "text/plain": [
       "Batches:   0%|          | 0/1 [00:00<?, ?it/s]"
      ]
     },
     "metadata": {},
     "output_type": "display_data"
    },
    {
     "data": {
      "application/vnd.jupyter.widget-view+json": {
       "model_id": "d31830fad90b45fdb58904692ffc49af",
       "version_major": 2,
       "version_minor": 0
      },
      "text/plain": [
       "Batches:   0%|          | 0/1 [00:00<?, ?it/s]"
      ]
     },
     "metadata": {},
     "output_type": "display_data"
    },
    {
     "data": {
      "application/vnd.jupyter.widget-view+json": {
       "model_id": "f4bf37a8f34b4bfa97f5e4841a3d21c5",
       "version_major": 2,
       "version_minor": 0
      },
      "text/plain": [
       "Batches:   0%|          | 0/1 [00:00<?, ?it/s]"
      ]
     },
     "metadata": {},
     "output_type": "display_data"
    },
    {
     "data": {
      "application/vnd.jupyter.widget-view+json": {
       "model_id": "998ac9d81b6f43a79087b1e23a26bb33",
       "version_major": 2,
       "version_minor": 0
      },
      "text/plain": [
       "Batches:   0%|          | 0/1 [00:00<?, ?it/s]"
      ]
     },
     "metadata": {},
     "output_type": "display_data"
    },
    {
     "data": {
      "application/vnd.jupyter.widget-view+json": {
       "model_id": "aeced23761334641b55b363d0b725daa",
       "version_major": 2,
       "version_minor": 0
      },
      "text/plain": [
       "Batches:   0%|          | 0/1 [00:00<?, ?it/s]"
      ]
     },
     "metadata": {},
     "output_type": "display_data"
    },
    {
     "data": {
      "application/vnd.jupyter.widget-view+json": {
       "model_id": "bd30070744704e38bed43bea977f0fbd",
       "version_major": 2,
       "version_minor": 0
      },
      "text/plain": [
       "Batches:   0%|          | 0/1 [00:00<?, ?it/s]"
      ]
     },
     "metadata": {},
     "output_type": "display_data"
    },
    {
     "name": "stdout",
     "output_type": "stream",
     "text": [
      "  Procesados 3232/7042 chunks\n"
     ]
    },
    {
     "data": {
      "application/vnd.jupyter.widget-view+json": {
       "model_id": "cf6c2a6533744e5a91e351f3b7126b64",
       "version_major": 2,
       "version_minor": 0
      },
      "text/plain": [
       "Batches:   0%|          | 0/1 [00:00<?, ?it/s]"
      ]
     },
     "metadata": {},
     "output_type": "display_data"
    },
    {
     "data": {
      "application/vnd.jupyter.widget-view+json": {
       "model_id": "b4d80016e8f74e94998a473ac8cac33e",
       "version_major": 2,
       "version_minor": 0
      },
      "text/plain": [
       "Batches:   0%|          | 0/1 [00:00<?, ?it/s]"
      ]
     },
     "metadata": {},
     "output_type": "display_data"
    },
    {
     "data": {
      "application/vnd.jupyter.widget-view+json": {
       "model_id": "9b90ba11f0e64b7aa269d54b531f51f0",
       "version_major": 2,
       "version_minor": 0
      },
      "text/plain": [
       "Batches:   0%|          | 0/1 [00:00<?, ?it/s]"
      ]
     },
     "metadata": {},
     "output_type": "display_data"
    },
    {
     "data": {
      "application/vnd.jupyter.widget-view+json": {
       "model_id": "c04915db92184cf68f134b8455daeaba",
       "version_major": 2,
       "version_minor": 0
      },
      "text/plain": [
       "Batches:   0%|          | 0/1 [00:00<?, ?it/s]"
      ]
     },
     "metadata": {},
     "output_type": "display_data"
    },
    {
     "data": {
      "application/vnd.jupyter.widget-view+json": {
       "model_id": "792fbe9462e84f85881e6a0457070208",
       "version_major": 2,
       "version_minor": 0
      },
      "text/plain": [
       "Batches:   0%|          | 0/1 [00:00<?, ?it/s]"
      ]
     },
     "metadata": {},
     "output_type": "display_data"
    },
    {
     "data": {
      "application/vnd.jupyter.widget-view+json": {
       "model_id": "f570edd4954e4405bcf33f71bb1dce66",
       "version_major": 2,
       "version_minor": 0
      },
      "text/plain": [
       "Batches:   0%|          | 0/1 [00:00<?, ?it/s]"
      ]
     },
     "metadata": {},
     "output_type": "display_data"
    },
    {
     "data": {
      "application/vnd.jupyter.widget-view+json": {
       "model_id": "a3ea0d83380248a4b594cf281ccbff21",
       "version_major": 2,
       "version_minor": 0
      },
      "text/plain": [
       "Batches:   0%|          | 0/1 [00:00<?, ?it/s]"
      ]
     },
     "metadata": {},
     "output_type": "display_data"
    },
    {
     "data": {
      "application/vnd.jupyter.widget-view+json": {
       "model_id": "5486c0e9f5f44167b4aa72ac01db27e4",
       "version_major": 2,
       "version_minor": 0
      },
      "text/plain": [
       "Batches:   0%|          | 0/1 [00:00<?, ?it/s]"
      ]
     },
     "metadata": {},
     "output_type": "display_data"
    },
    {
     "data": {
      "application/vnd.jupyter.widget-view+json": {
       "model_id": "8c453f094c7b496298872e6932e9e9dd",
       "version_major": 2,
       "version_minor": 0
      },
      "text/plain": [
       "Batches:   0%|          | 0/1 [00:00<?, ?it/s]"
      ]
     },
     "metadata": {},
     "output_type": "display_data"
    },
    {
     "data": {
      "application/vnd.jupyter.widget-view+json": {
       "model_id": "f9f63862d38e46dc84a4377f100d7f76",
       "version_major": 2,
       "version_minor": 0
      },
      "text/plain": [
       "Batches:   0%|          | 0/1 [00:00<?, ?it/s]"
      ]
     },
     "metadata": {},
     "output_type": "display_data"
    },
    {
     "name": "stdout",
     "output_type": "stream",
     "text": [
      "  Procesados 3552/7042 chunks\n"
     ]
    },
    {
     "data": {
      "application/vnd.jupyter.widget-view+json": {
       "model_id": "354d4d8d2ddd4ef1a4a6fd71653d7d53",
       "version_major": 2,
       "version_minor": 0
      },
      "text/plain": [
       "Batches:   0%|          | 0/1 [00:00<?, ?it/s]"
      ]
     },
     "metadata": {},
     "output_type": "display_data"
    },
    {
     "data": {
      "application/vnd.jupyter.widget-view+json": {
       "model_id": "e9bb76a38d7047eab30b0bdcbcef258c",
       "version_major": 2,
       "version_minor": 0
      },
      "text/plain": [
       "Batches:   0%|          | 0/1 [00:00<?, ?it/s]"
      ]
     },
     "metadata": {},
     "output_type": "display_data"
    },
    {
     "data": {
      "application/vnd.jupyter.widget-view+json": {
       "model_id": "bdfa1ee18c2a4f68960db04f646625a4",
       "version_major": 2,
       "version_minor": 0
      },
      "text/plain": [
       "Batches:   0%|          | 0/1 [00:00<?, ?it/s]"
      ]
     },
     "metadata": {},
     "output_type": "display_data"
    },
    {
     "data": {
      "application/vnd.jupyter.widget-view+json": {
       "model_id": "06fb364e83b94c55aa025a0a93edb377",
       "version_major": 2,
       "version_minor": 0
      },
      "text/plain": [
       "Batches:   0%|          | 0/1 [00:00<?, ?it/s]"
      ]
     },
     "metadata": {},
     "output_type": "display_data"
    },
    {
     "data": {
      "application/vnd.jupyter.widget-view+json": {
       "model_id": "658b44c2d8d84a2c87e7fb2ed36e4987",
       "version_major": 2,
       "version_minor": 0
      },
      "text/plain": [
       "Batches:   0%|          | 0/1 [00:00<?, ?it/s]"
      ]
     },
     "metadata": {},
     "output_type": "display_data"
    },
    {
     "data": {
      "application/vnd.jupyter.widget-view+json": {
       "model_id": "1d5344f11067432ab9f4b56d232e27b4",
       "version_major": 2,
       "version_minor": 0
      },
      "text/plain": [
       "Batches:   0%|          | 0/1 [00:00<?, ?it/s]"
      ]
     },
     "metadata": {},
     "output_type": "display_data"
    },
    {
     "data": {
      "application/vnd.jupyter.widget-view+json": {
       "model_id": "8b30c227e18b42ceafdeb796ef4c74f0",
       "version_major": 2,
       "version_minor": 0
      },
      "text/plain": [
       "Batches:   0%|          | 0/1 [00:00<?, ?it/s]"
      ]
     },
     "metadata": {},
     "output_type": "display_data"
    },
    {
     "data": {
      "application/vnd.jupyter.widget-view+json": {
       "model_id": "6c85ddf5dd98409b8409849a76501e9f",
       "version_major": 2,
       "version_minor": 0
      },
      "text/plain": [
       "Batches:   0%|          | 0/1 [00:00<?, ?it/s]"
      ]
     },
     "metadata": {},
     "output_type": "display_data"
    },
    {
     "data": {
      "application/vnd.jupyter.widget-view+json": {
       "model_id": "a2e51b3a547e4c3ab10fc79a8b01b18b",
       "version_major": 2,
       "version_minor": 0
      },
      "text/plain": [
       "Batches:   0%|          | 0/1 [00:00<?, ?it/s]"
      ]
     },
     "metadata": {},
     "output_type": "display_data"
    },
    {
     "data": {
      "application/vnd.jupyter.widget-view+json": {
       "model_id": "7eac5d199f6c4b5cb487ce8c75eefefc",
       "version_major": 2,
       "version_minor": 0
      },
      "text/plain": [
       "Batches:   0%|          | 0/1 [00:00<?, ?it/s]"
      ]
     },
     "metadata": {},
     "output_type": "display_data"
    },
    {
     "name": "stdout",
     "output_type": "stream",
     "text": [
      "  Procesados 3872/7042 chunks\n"
     ]
    },
    {
     "data": {
      "application/vnd.jupyter.widget-view+json": {
       "model_id": "3ba003f8e5d54720b2571039cb6cb1a6",
       "version_major": 2,
       "version_minor": 0
      },
      "text/plain": [
       "Batches:   0%|          | 0/1 [00:00<?, ?it/s]"
      ]
     },
     "metadata": {},
     "output_type": "display_data"
    },
    {
     "data": {
      "application/vnd.jupyter.widget-view+json": {
       "model_id": "fc4fecde52ec4b78af2621da1bfd9cf7",
       "version_major": 2,
       "version_minor": 0
      },
      "text/plain": [
       "Batches:   0%|          | 0/1 [00:00<?, ?it/s]"
      ]
     },
     "metadata": {},
     "output_type": "display_data"
    },
    {
     "data": {
      "application/vnd.jupyter.widget-view+json": {
       "model_id": "872da9875057416c9b9ad645fdb92977",
       "version_major": 2,
       "version_minor": 0
      },
      "text/plain": [
       "Batches:   0%|          | 0/1 [00:00<?, ?it/s]"
      ]
     },
     "metadata": {},
     "output_type": "display_data"
    },
    {
     "data": {
      "application/vnd.jupyter.widget-view+json": {
       "model_id": "37a15b21e6564389a00e86d5ce0ef4cc",
       "version_major": 2,
       "version_minor": 0
      },
      "text/plain": [
       "Batches:   0%|          | 0/1 [00:00<?, ?it/s]"
      ]
     },
     "metadata": {},
     "output_type": "display_data"
    },
    {
     "data": {
      "application/vnd.jupyter.widget-view+json": {
       "model_id": "16a7a4a6146e4c60bf98c43f7efb0068",
       "version_major": 2,
       "version_minor": 0
      },
      "text/plain": [
       "Batches:   0%|          | 0/1 [00:00<?, ?it/s]"
      ]
     },
     "metadata": {},
     "output_type": "display_data"
    },
    {
     "data": {
      "application/vnd.jupyter.widget-view+json": {
       "model_id": "b067d53979f04536832ae6fd2d6ddc48",
       "version_major": 2,
       "version_minor": 0
      },
      "text/plain": [
       "Batches:   0%|          | 0/1 [00:00<?, ?it/s]"
      ]
     },
     "metadata": {},
     "output_type": "display_data"
    },
    {
     "data": {
      "application/vnd.jupyter.widget-view+json": {
       "model_id": "aa7780848f7340cd868de869cc55fda0",
       "version_major": 2,
       "version_minor": 0
      },
      "text/plain": [
       "Batches:   0%|          | 0/1 [00:00<?, ?it/s]"
      ]
     },
     "metadata": {},
     "output_type": "display_data"
    },
    {
     "data": {
      "application/vnd.jupyter.widget-view+json": {
       "model_id": "8aa105dd229245dda4635c4d4992bc88",
       "version_major": 2,
       "version_minor": 0
      },
      "text/plain": [
       "Batches:   0%|          | 0/1 [00:00<?, ?it/s]"
      ]
     },
     "metadata": {},
     "output_type": "display_data"
    },
    {
     "data": {
      "application/vnd.jupyter.widget-view+json": {
       "model_id": "345fb11503444226921a61d0ea63b354",
       "version_major": 2,
       "version_minor": 0
      },
      "text/plain": [
       "Batches:   0%|          | 0/1 [00:00<?, ?it/s]"
      ]
     },
     "metadata": {},
     "output_type": "display_data"
    },
    {
     "data": {
      "application/vnd.jupyter.widget-view+json": {
       "model_id": "4e1eb89fedf44f999938aa8c4381f079",
       "version_major": 2,
       "version_minor": 0
      },
      "text/plain": [
       "Batches:   0%|          | 0/1 [00:00<?, ?it/s]"
      ]
     },
     "metadata": {},
     "output_type": "display_data"
    },
    {
     "name": "stdout",
     "output_type": "stream",
     "text": [
      "  Procesados 4192/7042 chunks\n"
     ]
    },
    {
     "data": {
      "application/vnd.jupyter.widget-view+json": {
       "model_id": "7554559ab9c142ac964b45973067f94a",
       "version_major": 2,
       "version_minor": 0
      },
      "text/plain": [
       "Batches:   0%|          | 0/1 [00:00<?, ?it/s]"
      ]
     },
     "metadata": {},
     "output_type": "display_data"
    },
    {
     "data": {
      "application/vnd.jupyter.widget-view+json": {
       "model_id": "a15ab1e84f2847edbe714c4f186305ff",
       "version_major": 2,
       "version_minor": 0
      },
      "text/plain": [
       "Batches:   0%|          | 0/1 [00:00<?, ?it/s]"
      ]
     },
     "metadata": {},
     "output_type": "display_data"
    },
    {
     "data": {
      "application/vnd.jupyter.widget-view+json": {
       "model_id": "fceda6d3f2404ec98d8aad076806b682",
       "version_major": 2,
       "version_minor": 0
      },
      "text/plain": [
       "Batches:   0%|          | 0/1 [00:00<?, ?it/s]"
      ]
     },
     "metadata": {},
     "output_type": "display_data"
    },
    {
     "data": {
      "application/vnd.jupyter.widget-view+json": {
       "model_id": "dcc0da37fa7645cabb7f056a21ad526c",
       "version_major": 2,
       "version_minor": 0
      },
      "text/plain": [
       "Batches:   0%|          | 0/1 [00:00<?, ?it/s]"
      ]
     },
     "metadata": {},
     "output_type": "display_data"
    },
    {
     "data": {
      "application/vnd.jupyter.widget-view+json": {
       "model_id": "c67506d1de044bd095ef4f87df30e811",
       "version_major": 2,
       "version_minor": 0
      },
      "text/plain": [
       "Batches:   0%|          | 0/1 [00:00<?, ?it/s]"
      ]
     },
     "metadata": {},
     "output_type": "display_data"
    },
    {
     "data": {
      "application/vnd.jupyter.widget-view+json": {
       "model_id": "6fa0d57bf00b434c8a22139cb488f42a",
       "version_major": 2,
       "version_minor": 0
      },
      "text/plain": [
       "Batches:   0%|          | 0/1 [00:00<?, ?it/s]"
      ]
     },
     "metadata": {},
     "output_type": "display_data"
    },
    {
     "data": {
      "application/vnd.jupyter.widget-view+json": {
       "model_id": "5b69910aa24649eba63ecf0e307254cf",
       "version_major": 2,
       "version_minor": 0
      },
      "text/plain": [
       "Batches:   0%|          | 0/1 [00:00<?, ?it/s]"
      ]
     },
     "metadata": {},
     "output_type": "display_data"
    },
    {
     "data": {
      "application/vnd.jupyter.widget-view+json": {
       "model_id": "48a35413268f45e795f9762cec5afa57",
       "version_major": 2,
       "version_minor": 0
      },
      "text/plain": [
       "Batches:   0%|          | 0/1 [00:00<?, ?it/s]"
      ]
     },
     "metadata": {},
     "output_type": "display_data"
    },
    {
     "data": {
      "application/vnd.jupyter.widget-view+json": {
       "model_id": "f0ae3660ba2e40cfa8ee7a299a85599d",
       "version_major": 2,
       "version_minor": 0
      },
      "text/plain": [
       "Batches:   0%|          | 0/1 [00:00<?, ?it/s]"
      ]
     },
     "metadata": {},
     "output_type": "display_data"
    },
    {
     "data": {
      "application/vnd.jupyter.widget-view+json": {
       "model_id": "b2611dafe6b24ce2828e1a685503f8f1",
       "version_major": 2,
       "version_minor": 0
      },
      "text/plain": [
       "Batches:   0%|          | 0/1 [00:00<?, ?it/s]"
      ]
     },
     "metadata": {},
     "output_type": "display_data"
    },
    {
     "name": "stdout",
     "output_type": "stream",
     "text": [
      "  Procesados 4512/7042 chunks\n"
     ]
    },
    {
     "data": {
      "application/vnd.jupyter.widget-view+json": {
       "model_id": "4cf46cbbc309472d92ec3571aa487fa9",
       "version_major": 2,
       "version_minor": 0
      },
      "text/plain": [
       "Batches:   0%|          | 0/1 [00:00<?, ?it/s]"
      ]
     },
     "metadata": {},
     "output_type": "display_data"
    },
    {
     "data": {
      "application/vnd.jupyter.widget-view+json": {
       "model_id": "e4fb37f88910402ba679d6741d857e84",
       "version_major": 2,
       "version_minor": 0
      },
      "text/plain": [
       "Batches:   0%|          | 0/1 [00:00<?, ?it/s]"
      ]
     },
     "metadata": {},
     "output_type": "display_data"
    },
    {
     "data": {
      "application/vnd.jupyter.widget-view+json": {
       "model_id": "4a247ff98bda4541bd084a008b4c2a00",
       "version_major": 2,
       "version_minor": 0
      },
      "text/plain": [
       "Batches:   0%|          | 0/1 [00:00<?, ?it/s]"
      ]
     },
     "metadata": {},
     "output_type": "display_data"
    },
    {
     "data": {
      "application/vnd.jupyter.widget-view+json": {
       "model_id": "4c70cacb560f4cd2b7cb3f6433bdca39",
       "version_major": 2,
       "version_minor": 0
      },
      "text/plain": [
       "Batches:   0%|          | 0/1 [00:00<?, ?it/s]"
      ]
     },
     "metadata": {},
     "output_type": "display_data"
    },
    {
     "data": {
      "application/vnd.jupyter.widget-view+json": {
       "model_id": "44d8c8d9a5d34af5be6d40918119f8f9",
       "version_major": 2,
       "version_minor": 0
      },
      "text/plain": [
       "Batches:   0%|          | 0/1 [00:00<?, ?it/s]"
      ]
     },
     "metadata": {},
     "output_type": "display_data"
    },
    {
     "data": {
      "application/vnd.jupyter.widget-view+json": {
       "model_id": "906412c4eccb47a6af32fd2956e4d5ea",
       "version_major": 2,
       "version_minor": 0
      },
      "text/plain": [
       "Batches:   0%|          | 0/1 [00:00<?, ?it/s]"
      ]
     },
     "metadata": {},
     "output_type": "display_data"
    },
    {
     "data": {
      "application/vnd.jupyter.widget-view+json": {
       "model_id": "7cc6f606c3024c71a643c4d8d6dbbdef",
       "version_major": 2,
       "version_minor": 0
      },
      "text/plain": [
       "Batches:   0%|          | 0/1 [00:00<?, ?it/s]"
      ]
     },
     "metadata": {},
     "output_type": "display_data"
    },
    {
     "data": {
      "application/vnd.jupyter.widget-view+json": {
       "model_id": "e5addb2bd6704fc3b09a841485840df9",
       "version_major": 2,
       "version_minor": 0
      },
      "text/plain": [
       "Batches:   0%|          | 0/1 [00:00<?, ?it/s]"
      ]
     },
     "metadata": {},
     "output_type": "display_data"
    },
    {
     "data": {
      "application/vnd.jupyter.widget-view+json": {
       "model_id": "ba418cca5f76444b8581395216d0a664",
       "version_major": 2,
       "version_minor": 0
      },
      "text/plain": [
       "Batches:   0%|          | 0/1 [00:00<?, ?it/s]"
      ]
     },
     "metadata": {},
     "output_type": "display_data"
    },
    {
     "data": {
      "application/vnd.jupyter.widget-view+json": {
       "model_id": "79c9ac5ce77f4172bb2d6f037aaeb2ed",
       "version_major": 2,
       "version_minor": 0
      },
      "text/plain": [
       "Batches:   0%|          | 0/1 [00:00<?, ?it/s]"
      ]
     },
     "metadata": {},
     "output_type": "display_data"
    },
    {
     "name": "stdout",
     "output_type": "stream",
     "text": [
      "  Procesados 4832/7042 chunks\n"
     ]
    },
    {
     "data": {
      "application/vnd.jupyter.widget-view+json": {
       "model_id": "1e8ca958928e4a73aa8ea07550091d88",
       "version_major": 2,
       "version_minor": 0
      },
      "text/plain": [
       "Batches:   0%|          | 0/1 [00:00<?, ?it/s]"
      ]
     },
     "metadata": {},
     "output_type": "display_data"
    },
    {
     "data": {
      "application/vnd.jupyter.widget-view+json": {
       "model_id": "76816067b69f4693bf89017f61c1c899",
       "version_major": 2,
       "version_minor": 0
      },
      "text/plain": [
       "Batches:   0%|          | 0/1 [00:00<?, ?it/s]"
      ]
     },
     "metadata": {},
     "output_type": "display_data"
    },
    {
     "data": {
      "application/vnd.jupyter.widget-view+json": {
       "model_id": "5f96cd71ee064097bc775e7bb5bf7de0",
       "version_major": 2,
       "version_minor": 0
      },
      "text/plain": [
       "Batches:   0%|          | 0/1 [00:00<?, ?it/s]"
      ]
     },
     "metadata": {},
     "output_type": "display_data"
    },
    {
     "data": {
      "application/vnd.jupyter.widget-view+json": {
       "model_id": "81e786ce294a497e97168e4f35012558",
       "version_major": 2,
       "version_minor": 0
      },
      "text/plain": [
       "Batches:   0%|          | 0/1 [00:00<?, ?it/s]"
      ]
     },
     "metadata": {},
     "output_type": "display_data"
    },
    {
     "data": {
      "application/vnd.jupyter.widget-view+json": {
       "model_id": "3429d6f22161481588f7b248bd69df30",
       "version_major": 2,
       "version_minor": 0
      },
      "text/plain": [
       "Batches:   0%|          | 0/1 [00:00<?, ?it/s]"
      ]
     },
     "metadata": {},
     "output_type": "display_data"
    },
    {
     "data": {
      "application/vnd.jupyter.widget-view+json": {
       "model_id": "8b5834a283994ce69e97030e8c733117",
       "version_major": 2,
       "version_minor": 0
      },
      "text/plain": [
       "Batches:   0%|          | 0/1 [00:00<?, ?it/s]"
      ]
     },
     "metadata": {},
     "output_type": "display_data"
    },
    {
     "data": {
      "application/vnd.jupyter.widget-view+json": {
       "model_id": "298c2f4db03140f0bd1a90ab1efeb650",
       "version_major": 2,
       "version_minor": 0
      },
      "text/plain": [
       "Batches:   0%|          | 0/1 [00:00<?, ?it/s]"
      ]
     },
     "metadata": {},
     "output_type": "display_data"
    },
    {
     "data": {
      "application/vnd.jupyter.widget-view+json": {
       "model_id": "e6c83fd89a984310911e5cac3a805409",
       "version_major": 2,
       "version_minor": 0
      },
      "text/plain": [
       "Batches:   0%|          | 0/1 [00:00<?, ?it/s]"
      ]
     },
     "metadata": {},
     "output_type": "display_data"
    },
    {
     "data": {
      "application/vnd.jupyter.widget-view+json": {
       "model_id": "eef49993599c4e289ff8b387826fbf99",
       "version_major": 2,
       "version_minor": 0
      },
      "text/plain": [
       "Batches:   0%|          | 0/1 [00:00<?, ?it/s]"
      ]
     },
     "metadata": {},
     "output_type": "display_data"
    },
    {
     "data": {
      "application/vnd.jupyter.widget-view+json": {
       "model_id": "6803daf4c3064e1cb1776d3cbb57f022",
       "version_major": 2,
       "version_minor": 0
      },
      "text/plain": [
       "Batches:   0%|          | 0/1 [00:00<?, ?it/s]"
      ]
     },
     "metadata": {},
     "output_type": "display_data"
    },
    {
     "name": "stdout",
     "output_type": "stream",
     "text": [
      "  Procesados 5152/7042 chunks\n"
     ]
    },
    {
     "data": {
      "application/vnd.jupyter.widget-view+json": {
       "model_id": "918ef9e44f46438cb41ccff6af86c5a7",
       "version_major": 2,
       "version_minor": 0
      },
      "text/plain": [
       "Batches:   0%|          | 0/1 [00:00<?, ?it/s]"
      ]
     },
     "metadata": {},
     "output_type": "display_data"
    },
    {
     "data": {
      "application/vnd.jupyter.widget-view+json": {
       "model_id": "bb8e6a828bfd4461bbe25c1425fe2f0b",
       "version_major": 2,
       "version_minor": 0
      },
      "text/plain": [
       "Batches:   0%|          | 0/1 [00:00<?, ?it/s]"
      ]
     },
     "metadata": {},
     "output_type": "display_data"
    },
    {
     "data": {
      "application/vnd.jupyter.widget-view+json": {
       "model_id": "5511551915984814bf6d7b25ffa4d59d",
       "version_major": 2,
       "version_minor": 0
      },
      "text/plain": [
       "Batches:   0%|          | 0/1 [00:00<?, ?it/s]"
      ]
     },
     "metadata": {},
     "output_type": "display_data"
    },
    {
     "data": {
      "application/vnd.jupyter.widget-view+json": {
       "model_id": "188cd69523ce4c8d9954b2f7e6700977",
       "version_major": 2,
       "version_minor": 0
      },
      "text/plain": [
       "Batches:   0%|          | 0/1 [00:00<?, ?it/s]"
      ]
     },
     "metadata": {},
     "output_type": "display_data"
    },
    {
     "data": {
      "application/vnd.jupyter.widget-view+json": {
       "model_id": "4d2e536c5b3a4f33a947ea318d274448",
       "version_major": 2,
       "version_minor": 0
      },
      "text/plain": [
       "Batches:   0%|          | 0/1 [00:00<?, ?it/s]"
      ]
     },
     "metadata": {},
     "output_type": "display_data"
    },
    {
     "data": {
      "application/vnd.jupyter.widget-view+json": {
       "model_id": "76e53180b2c34e628714efa682bad8f7",
       "version_major": 2,
       "version_minor": 0
      },
      "text/plain": [
       "Batches:   0%|          | 0/1 [00:00<?, ?it/s]"
      ]
     },
     "metadata": {},
     "output_type": "display_data"
    },
    {
     "data": {
      "application/vnd.jupyter.widget-view+json": {
       "model_id": "2cabed4b6ed54d0e8e48c653e1797f55",
       "version_major": 2,
       "version_minor": 0
      },
      "text/plain": [
       "Batches:   0%|          | 0/1 [00:00<?, ?it/s]"
      ]
     },
     "metadata": {},
     "output_type": "display_data"
    },
    {
     "data": {
      "application/vnd.jupyter.widget-view+json": {
       "model_id": "015bd81cf6a94ac5bc131fa50434ec22",
       "version_major": 2,
       "version_minor": 0
      },
      "text/plain": [
       "Batches:   0%|          | 0/1 [00:00<?, ?it/s]"
      ]
     },
     "metadata": {},
     "output_type": "display_data"
    },
    {
     "data": {
      "application/vnd.jupyter.widget-view+json": {
       "model_id": "1ef29677675e46469cf4a7961ea9d21a",
       "version_major": 2,
       "version_minor": 0
      },
      "text/plain": [
       "Batches:   0%|          | 0/1 [00:00<?, ?it/s]"
      ]
     },
     "metadata": {},
     "output_type": "display_data"
    },
    {
     "data": {
      "application/vnd.jupyter.widget-view+json": {
       "model_id": "e24dbc3d3f924a19bb6aad083e0b38dd",
       "version_major": 2,
       "version_minor": 0
      },
      "text/plain": [
       "Batches:   0%|          | 0/1 [00:00<?, ?it/s]"
      ]
     },
     "metadata": {},
     "output_type": "display_data"
    },
    {
     "name": "stdout",
     "output_type": "stream",
     "text": [
      "  Procesados 5472/7042 chunks\n"
     ]
    },
    {
     "data": {
      "application/vnd.jupyter.widget-view+json": {
       "model_id": "5ef14b449fcc4fa8b77f38b8dc6a6efd",
       "version_major": 2,
       "version_minor": 0
      },
      "text/plain": [
       "Batches:   0%|          | 0/1 [00:00<?, ?it/s]"
      ]
     },
     "metadata": {},
     "output_type": "display_data"
    },
    {
     "data": {
      "application/vnd.jupyter.widget-view+json": {
       "model_id": "5d76eef3c7184545b3bc7ea07bf58259",
       "version_major": 2,
       "version_minor": 0
      },
      "text/plain": [
       "Batches:   0%|          | 0/1 [00:00<?, ?it/s]"
      ]
     },
     "metadata": {},
     "output_type": "display_data"
    },
    {
     "data": {
      "application/vnd.jupyter.widget-view+json": {
       "model_id": "3db41d0ea1e8408598f1eecc62c96195",
       "version_major": 2,
       "version_minor": 0
      },
      "text/plain": [
       "Batches:   0%|          | 0/1 [00:00<?, ?it/s]"
      ]
     },
     "metadata": {},
     "output_type": "display_data"
    },
    {
     "data": {
      "application/vnd.jupyter.widget-view+json": {
       "model_id": "a254953e8dc144b698f27ccce755b5af",
       "version_major": 2,
       "version_minor": 0
      },
      "text/plain": [
       "Batches:   0%|          | 0/1 [00:00<?, ?it/s]"
      ]
     },
     "metadata": {},
     "output_type": "display_data"
    },
    {
     "data": {
      "application/vnd.jupyter.widget-view+json": {
       "model_id": "81ac5e8bd0dd43c6ab2563d4ea828140",
       "version_major": 2,
       "version_minor": 0
      },
      "text/plain": [
       "Batches:   0%|          | 0/1 [00:00<?, ?it/s]"
      ]
     },
     "metadata": {},
     "output_type": "display_data"
    },
    {
     "data": {
      "application/vnd.jupyter.widget-view+json": {
       "model_id": "c89b54e9eb04462dbea67f76a4f1f08d",
       "version_major": 2,
       "version_minor": 0
      },
      "text/plain": [
       "Batches:   0%|          | 0/1 [00:00<?, ?it/s]"
      ]
     },
     "metadata": {},
     "output_type": "display_data"
    },
    {
     "data": {
      "application/vnd.jupyter.widget-view+json": {
       "model_id": "aebcd07b98c1455a90381eadfecd9d23",
       "version_major": 2,
       "version_minor": 0
      },
      "text/plain": [
       "Batches:   0%|          | 0/1 [00:00<?, ?it/s]"
      ]
     },
     "metadata": {},
     "output_type": "display_data"
    },
    {
     "data": {
      "application/vnd.jupyter.widget-view+json": {
       "model_id": "50212b26a87a4db1a0f1a2546e3f770b",
       "version_major": 2,
       "version_minor": 0
      },
      "text/plain": [
       "Batches:   0%|          | 0/1 [00:00<?, ?it/s]"
      ]
     },
     "metadata": {},
     "output_type": "display_data"
    },
    {
     "data": {
      "application/vnd.jupyter.widget-view+json": {
       "model_id": "e318244dc9ee411e996fd31fd965bc9b",
       "version_major": 2,
       "version_minor": 0
      },
      "text/plain": [
       "Batches:   0%|          | 0/1 [00:00<?, ?it/s]"
      ]
     },
     "metadata": {},
     "output_type": "display_data"
    },
    {
     "data": {
      "application/vnd.jupyter.widget-view+json": {
       "model_id": "2d56d5bbf31a4531965aae09dcc4e1c9",
       "version_major": 2,
       "version_minor": 0
      },
      "text/plain": [
       "Batches:   0%|          | 0/1 [00:00<?, ?it/s]"
      ]
     },
     "metadata": {},
     "output_type": "display_data"
    },
    {
     "name": "stdout",
     "output_type": "stream",
     "text": [
      "  Procesados 5792/7042 chunks\n"
     ]
    },
    {
     "data": {
      "application/vnd.jupyter.widget-view+json": {
       "model_id": "80c531949aa94c6d838ee7d93e7ad4b5",
       "version_major": 2,
       "version_minor": 0
      },
      "text/plain": [
       "Batches:   0%|          | 0/1 [00:00<?, ?it/s]"
      ]
     },
     "metadata": {},
     "output_type": "display_data"
    },
    {
     "data": {
      "application/vnd.jupyter.widget-view+json": {
       "model_id": "cf1662edf2434521be0e0bbf2c828aa2",
       "version_major": 2,
       "version_minor": 0
      },
      "text/plain": [
       "Batches:   0%|          | 0/1 [00:00<?, ?it/s]"
      ]
     },
     "metadata": {},
     "output_type": "display_data"
    },
    {
     "data": {
      "application/vnd.jupyter.widget-view+json": {
       "model_id": "4bf38ed2b45d49b0b258c7a05a15fe39",
       "version_major": 2,
       "version_minor": 0
      },
      "text/plain": [
       "Batches:   0%|          | 0/1 [00:00<?, ?it/s]"
      ]
     },
     "metadata": {},
     "output_type": "display_data"
    },
    {
     "data": {
      "application/vnd.jupyter.widget-view+json": {
       "model_id": "3c182847727c4f3199c35fa6fda1a6a5",
       "version_major": 2,
       "version_minor": 0
      },
      "text/plain": [
       "Batches:   0%|          | 0/1 [00:00<?, ?it/s]"
      ]
     },
     "metadata": {},
     "output_type": "display_data"
    },
    {
     "data": {
      "application/vnd.jupyter.widget-view+json": {
       "model_id": "28705950b35846588410df20d40e0ddf",
       "version_major": 2,
       "version_minor": 0
      },
      "text/plain": [
       "Batches:   0%|          | 0/1 [00:00<?, ?it/s]"
      ]
     },
     "metadata": {},
     "output_type": "display_data"
    },
    {
     "data": {
      "application/vnd.jupyter.widget-view+json": {
       "model_id": "132b1c38592c425394a6c06a18ed7884",
       "version_major": 2,
       "version_minor": 0
      },
      "text/plain": [
       "Batches:   0%|          | 0/1 [00:00<?, ?it/s]"
      ]
     },
     "metadata": {},
     "output_type": "display_data"
    },
    {
     "data": {
      "application/vnd.jupyter.widget-view+json": {
       "model_id": "2dd34ac9e73e4d71abb0610901d6987d",
       "version_major": 2,
       "version_minor": 0
      },
      "text/plain": [
       "Batches:   0%|          | 0/1 [00:00<?, ?it/s]"
      ]
     },
     "metadata": {},
     "output_type": "display_data"
    },
    {
     "data": {
      "application/vnd.jupyter.widget-view+json": {
       "model_id": "0b59e8c33069450480f952d404249376",
       "version_major": 2,
       "version_minor": 0
      },
      "text/plain": [
       "Batches:   0%|          | 0/1 [00:00<?, ?it/s]"
      ]
     },
     "metadata": {},
     "output_type": "display_data"
    },
    {
     "data": {
      "application/vnd.jupyter.widget-view+json": {
       "model_id": "c1d98319095b47beaf390e992c5350f7",
       "version_major": 2,
       "version_minor": 0
      },
      "text/plain": [
       "Batches:   0%|          | 0/1 [00:00<?, ?it/s]"
      ]
     },
     "metadata": {},
     "output_type": "display_data"
    },
    {
     "data": {
      "application/vnd.jupyter.widget-view+json": {
       "model_id": "4b18a158d8494881b3d8c812d619d30a",
       "version_major": 2,
       "version_minor": 0
      },
      "text/plain": [
       "Batches:   0%|          | 0/1 [00:00<?, ?it/s]"
      ]
     },
     "metadata": {},
     "output_type": "display_data"
    },
    {
     "name": "stdout",
     "output_type": "stream",
     "text": [
      "  Procesados 6112/7042 chunks\n"
     ]
    },
    {
     "data": {
      "application/vnd.jupyter.widget-view+json": {
       "model_id": "d652e16f977c4dc39bb7892573a84830",
       "version_major": 2,
       "version_minor": 0
      },
      "text/plain": [
       "Batches:   0%|          | 0/1 [00:00<?, ?it/s]"
      ]
     },
     "metadata": {},
     "output_type": "display_data"
    },
    {
     "data": {
      "application/vnd.jupyter.widget-view+json": {
       "model_id": "a336cebfebc642eca824db35f1b85c03",
       "version_major": 2,
       "version_minor": 0
      },
      "text/plain": [
       "Batches:   0%|          | 0/1 [00:00<?, ?it/s]"
      ]
     },
     "metadata": {},
     "output_type": "display_data"
    },
    {
     "data": {
      "application/vnd.jupyter.widget-view+json": {
       "model_id": "0c7c80c6f18345ae91572a6fac6e5391",
       "version_major": 2,
       "version_minor": 0
      },
      "text/plain": [
       "Batches:   0%|          | 0/1 [00:00<?, ?it/s]"
      ]
     },
     "metadata": {},
     "output_type": "display_data"
    },
    {
     "data": {
      "application/vnd.jupyter.widget-view+json": {
       "model_id": "828041c7c1844fd7b78f11a81bed75a3",
       "version_major": 2,
       "version_minor": 0
      },
      "text/plain": [
       "Batches:   0%|          | 0/1 [00:00<?, ?it/s]"
      ]
     },
     "metadata": {},
     "output_type": "display_data"
    },
    {
     "data": {
      "application/vnd.jupyter.widget-view+json": {
       "model_id": "397ebf9ac86048ab84b8ba44ac04070d",
       "version_major": 2,
       "version_minor": 0
      },
      "text/plain": [
       "Batches:   0%|          | 0/1 [00:00<?, ?it/s]"
      ]
     },
     "metadata": {},
     "output_type": "display_data"
    },
    {
     "data": {
      "application/vnd.jupyter.widget-view+json": {
       "model_id": "32dbf9da082d46eb89b9bb9c20920112",
       "version_major": 2,
       "version_minor": 0
      },
      "text/plain": [
       "Batches:   0%|          | 0/1 [00:00<?, ?it/s]"
      ]
     },
     "metadata": {},
     "output_type": "display_data"
    },
    {
     "data": {
      "application/vnd.jupyter.widget-view+json": {
       "model_id": "f8f79e2b838a41feb97ba0bb7ea169d6",
       "version_major": 2,
       "version_minor": 0
      },
      "text/plain": [
       "Batches:   0%|          | 0/1 [00:00<?, ?it/s]"
      ]
     },
     "metadata": {},
     "output_type": "display_data"
    },
    {
     "data": {
      "application/vnd.jupyter.widget-view+json": {
       "model_id": "61a76e536ceb488bbbeb75291f1d36b2",
       "version_major": 2,
       "version_minor": 0
      },
      "text/plain": [
       "Batches:   0%|          | 0/1 [00:00<?, ?it/s]"
      ]
     },
     "metadata": {},
     "output_type": "display_data"
    },
    {
     "data": {
      "application/vnd.jupyter.widget-view+json": {
       "model_id": "588422f31b47410f8f901cc07ce12390",
       "version_major": 2,
       "version_minor": 0
      },
      "text/plain": [
       "Batches:   0%|          | 0/1 [00:00<?, ?it/s]"
      ]
     },
     "metadata": {},
     "output_type": "display_data"
    },
    {
     "data": {
      "application/vnd.jupyter.widget-view+json": {
       "model_id": "63c3993b2cfd4957b4e9488767f6d808",
       "version_major": 2,
       "version_minor": 0
      },
      "text/plain": [
       "Batches:   0%|          | 0/1 [00:00<?, ?it/s]"
      ]
     },
     "metadata": {},
     "output_type": "display_data"
    },
    {
     "name": "stdout",
     "output_type": "stream",
     "text": [
      "  Procesados 6432/7042 chunks\n"
     ]
    },
    {
     "data": {
      "application/vnd.jupyter.widget-view+json": {
       "model_id": "5da8ab82bbe74602b6ef4fc6f8459eb8",
       "version_major": 2,
       "version_minor": 0
      },
      "text/plain": [
       "Batches:   0%|          | 0/1 [00:00<?, ?it/s]"
      ]
     },
     "metadata": {},
     "output_type": "display_data"
    },
    {
     "data": {
      "application/vnd.jupyter.widget-view+json": {
       "model_id": "90653f1ccbdf499ca85adbed514bf8cb",
       "version_major": 2,
       "version_minor": 0
      },
      "text/plain": [
       "Batches:   0%|          | 0/1 [00:00<?, ?it/s]"
      ]
     },
     "metadata": {},
     "output_type": "display_data"
    },
    {
     "data": {
      "application/vnd.jupyter.widget-view+json": {
       "model_id": "9e6c7a8113654a5885fcdcd57d4fe79b",
       "version_major": 2,
       "version_minor": 0
      },
      "text/plain": [
       "Batches:   0%|          | 0/1 [00:00<?, ?it/s]"
      ]
     },
     "metadata": {},
     "output_type": "display_data"
    },
    {
     "data": {
      "application/vnd.jupyter.widget-view+json": {
       "model_id": "ea63e104cf344755a55a4ccb4d624c4e",
       "version_major": 2,
       "version_minor": 0
      },
      "text/plain": [
       "Batches:   0%|          | 0/1 [00:00<?, ?it/s]"
      ]
     },
     "metadata": {},
     "output_type": "display_data"
    },
    {
     "data": {
      "application/vnd.jupyter.widget-view+json": {
       "model_id": "bffd465fd1c14c7799049fb426c60dfa",
       "version_major": 2,
       "version_minor": 0
      },
      "text/plain": [
       "Batches:   0%|          | 0/1 [00:00<?, ?it/s]"
      ]
     },
     "metadata": {},
     "output_type": "display_data"
    },
    {
     "data": {
      "application/vnd.jupyter.widget-view+json": {
       "model_id": "9ca0f027a2e3471c86e057e8af812bba",
       "version_major": 2,
       "version_minor": 0
      },
      "text/plain": [
       "Batches:   0%|          | 0/1 [00:00<?, ?it/s]"
      ]
     },
     "metadata": {},
     "output_type": "display_data"
    },
    {
     "data": {
      "application/vnd.jupyter.widget-view+json": {
       "model_id": "8cab568d875a4e8883b101d41dcb226d",
       "version_major": 2,
       "version_minor": 0
      },
      "text/plain": [
       "Batches:   0%|          | 0/1 [00:00<?, ?it/s]"
      ]
     },
     "metadata": {},
     "output_type": "display_data"
    },
    {
     "data": {
      "application/vnd.jupyter.widget-view+json": {
       "model_id": "ed1135805ae8455fb2c39fcf01203e5f",
       "version_major": 2,
       "version_minor": 0
      },
      "text/plain": [
       "Batches:   0%|          | 0/1 [00:00<?, ?it/s]"
      ]
     },
     "metadata": {},
     "output_type": "display_data"
    },
    {
     "data": {
      "application/vnd.jupyter.widget-view+json": {
       "model_id": "d856b37ee9954e149620f87e384f42a2",
       "version_major": 2,
       "version_minor": 0
      },
      "text/plain": [
       "Batches:   0%|          | 0/1 [00:00<?, ?it/s]"
      ]
     },
     "metadata": {},
     "output_type": "display_data"
    },
    {
     "data": {
      "application/vnd.jupyter.widget-view+json": {
       "model_id": "544a8dab3d184a228a3d114dbd7b1243",
       "version_major": 2,
       "version_minor": 0
      },
      "text/plain": [
       "Batches:   0%|          | 0/1 [00:00<?, ?it/s]"
      ]
     },
     "metadata": {},
     "output_type": "display_data"
    },
    {
     "name": "stdout",
     "output_type": "stream",
     "text": [
      "  Procesados 6752/7042 chunks\n"
     ]
    },
    {
     "data": {
      "application/vnd.jupyter.widget-view+json": {
       "model_id": "5dca04acdb2d4e2288c870b7a393b5bc",
       "version_major": 2,
       "version_minor": 0
      },
      "text/plain": [
       "Batches:   0%|          | 0/1 [00:00<?, ?it/s]"
      ]
     },
     "metadata": {},
     "output_type": "display_data"
    },
    {
     "data": {
      "application/vnd.jupyter.widget-view+json": {
       "model_id": "a7c250ca4ff74a1da47c69258dbc9c83",
       "version_major": 2,
       "version_minor": 0
      },
      "text/plain": [
       "Batches:   0%|          | 0/1 [00:00<?, ?it/s]"
      ]
     },
     "metadata": {},
     "output_type": "display_data"
    },
    {
     "data": {
      "application/vnd.jupyter.widget-view+json": {
       "model_id": "486404241fcd4151bc296641bccb3407",
       "version_major": 2,
       "version_minor": 0
      },
      "text/plain": [
       "Batches:   0%|          | 0/1 [00:00<?, ?it/s]"
      ]
     },
     "metadata": {},
     "output_type": "display_data"
    },
    {
     "data": {
      "application/vnd.jupyter.widget-view+json": {
       "model_id": "4bf38c9505334faa974efea9340faa75",
       "version_major": 2,
       "version_minor": 0
      },
      "text/plain": [
       "Batches:   0%|          | 0/1 [00:00<?, ?it/s]"
      ]
     },
     "metadata": {},
     "output_type": "display_data"
    },
    {
     "data": {
      "application/vnd.jupyter.widget-view+json": {
       "model_id": "a9a452d5471349dfa5dc6f55a8c08567",
       "version_major": 2,
       "version_minor": 0
      },
      "text/plain": [
       "Batches:   0%|          | 0/1 [00:00<?, ?it/s]"
      ]
     },
     "metadata": {},
     "output_type": "display_data"
    },
    {
     "data": {
      "application/vnd.jupyter.widget-view+json": {
       "model_id": "4ed3426b0557421ea1cc5a0115c5a753",
       "version_major": 2,
       "version_minor": 0
      },
      "text/plain": [
       "Batches:   0%|          | 0/1 [00:00<?, ?it/s]"
      ]
     },
     "metadata": {},
     "output_type": "display_data"
    },
    {
     "data": {
      "application/vnd.jupyter.widget-view+json": {
       "model_id": "4b15dfa8b00045b6b3fec7dbb3c21a38",
       "version_major": 2,
       "version_minor": 0
      },
      "text/plain": [
       "Batches:   0%|          | 0/1 [00:00<?, ?it/s]"
      ]
     },
     "metadata": {},
     "output_type": "display_data"
    },
    {
     "data": {
      "application/vnd.jupyter.widget-view+json": {
       "model_id": "54bbc953e93949da9134af04bcf75cf7",
       "version_major": 2,
       "version_minor": 0
      },
      "text/plain": [
       "Batches:   0%|          | 0/1 [00:00<?, ?it/s]"
      ]
     },
     "metadata": {},
     "output_type": "display_data"
    },
    {
     "data": {
      "application/vnd.jupyter.widget-view+json": {
       "model_id": "e4d6dc383f534f6eb56ff2d65cf756cc",
       "version_major": 2,
       "version_minor": 0
      },
      "text/plain": [
       "Batches:   0%|          | 0/1 [00:00<?, ?it/s]"
      ]
     },
     "metadata": {},
     "output_type": "display_data"
    },
    {
     "data": {
      "application/vnd.jupyter.widget-view+json": {
       "model_id": "eb98201a07dc4efda15b7707c70b2a8d",
       "version_major": 2,
       "version_minor": 0
      },
      "text/plain": [
       "Batches:   0%|          | 0/1 [00:00<?, ?it/s]"
      ]
     },
     "metadata": {},
     "output_type": "display_data"
    },
    {
     "name": "stdout",
     "output_type": "stream",
     "text": [
      "  Procesados 7042/7042 chunks\n",
      " 7042 embeddings generados\n"
     ]
    }
   ],
   "source": [
    "# Generamos embeddings\n",
    "embeddings = generar_embeddings(model, chunks_info)"
   ]
  },
  {
   "cell_type": "code",
   "execution_count": 15,
   "id": "c5ac7198",
   "metadata": {},
   "outputs": [
    {
     "name": "stdout",
     "output_type": "stream",
     "text": [
      "\n",
      "Inicializando Chroma...\n",
      "Directorio de persistencia: ./chroma_novelas_db\n",
      "Nombre de colección: novelas_corpus\n",
      "  Colección 'novelas_corpus' creada\n"
     ]
    }
   ],
   "source": [
    "# Inicializamos Chroma\n",
    "client, collection = inicializar_chroma(nombre_coleccion)"
   ]
  },
  {
   "cell_type": "code",
   "execution_count": 16,
   "id": "1d7dba31",
   "metadata": {},
   "outputs": [
    {
     "name": "stdout",
     "output_type": "stream",
     "text": [
      "\n",
      "Cargando 7042 embeddings en Chroma...\n",
      "    Lote 1/71 cargado\n",
      "    Lote 2/71 cargado\n",
      "    Lote 3/71 cargado\n",
      "    Lote 4/71 cargado\n",
      "    Lote 5/71 cargado\n",
      "    Lote 6/71 cargado\n",
      "    Lote 7/71 cargado\n",
      "    Lote 8/71 cargado\n",
      "    Lote 9/71 cargado\n",
      "    Lote 10/71 cargado\n",
      "    Lote 11/71 cargado\n",
      "    Lote 12/71 cargado\n",
      "    Lote 13/71 cargado\n",
      "    Lote 14/71 cargado\n",
      "    Lote 15/71 cargado\n",
      "    Lote 16/71 cargado\n",
      "    Lote 17/71 cargado\n",
      "    Lote 18/71 cargado\n",
      "    Lote 19/71 cargado\n",
      "    Lote 20/71 cargado\n",
      "    Lote 21/71 cargado\n",
      "    Lote 22/71 cargado\n",
      "    Lote 23/71 cargado\n",
      "    Lote 24/71 cargado\n",
      "    Lote 25/71 cargado\n",
      "    Lote 26/71 cargado\n",
      "    Lote 27/71 cargado\n",
      "    Lote 28/71 cargado\n",
      "    Lote 29/71 cargado\n",
      "    Lote 30/71 cargado\n",
      "    Lote 31/71 cargado\n",
      "    Lote 32/71 cargado\n",
      "    Lote 33/71 cargado\n",
      "    Lote 34/71 cargado\n",
      "    Lote 35/71 cargado\n",
      "    Lote 36/71 cargado\n",
      "    Lote 37/71 cargado\n",
      "    Lote 38/71 cargado\n",
      "    Lote 39/71 cargado\n",
      "    Lote 40/71 cargado\n",
      "    Lote 41/71 cargado\n",
      "    Lote 42/71 cargado\n",
      "    Lote 43/71 cargado\n",
      "    Lote 44/71 cargado\n",
      "    Lote 45/71 cargado\n",
      "    Lote 46/71 cargado\n",
      "    Lote 47/71 cargado\n",
      "    Lote 48/71 cargado\n",
      "    Lote 49/71 cargado\n",
      "    Lote 50/71 cargado\n",
      "    Lote 51/71 cargado\n",
      "    Lote 52/71 cargado\n",
      "    Lote 53/71 cargado\n",
      "    Lote 54/71 cargado\n",
      "    Lote 55/71 cargado\n",
      "    Lote 56/71 cargado\n",
      "    Lote 57/71 cargado\n",
      "    Lote 58/71 cargado\n",
      "    Lote 59/71 cargado\n",
      "    Lote 60/71 cargado\n",
      "    Lote 61/71 cargado\n",
      "    Lote 62/71 cargado\n",
      "    Lote 63/71 cargado\n",
      "    Lote 64/71 cargado\n",
      "    Lote 65/71 cargado\n",
      "    Lote 66/71 cargado\n",
      "    Lote 67/71 cargado\n",
      "    Lote 68/71 cargado\n",
      "    Lote 69/71 cargado\n",
      "    Lote 70/71 cargado\n",
      "    Lote 71/71 cargado\n",
      "  Total de documentos en Chroma: 7042\n"
     ]
    }
   ],
   "source": [
    "# Cargams embeddings en Chroma\n",
    "cargar_a_chroma(collection, embeddings, chunks_info)"
   ]
  },
  {
   "cell_type": "code",
   "execution_count": 17,
   "id": "f3d0b8cd",
   "metadata": {},
   "outputs": [
    {
     "name": "stdout",
     "output_type": "stream",
     "text": [
      "\n",
      "Generando reporte de la colección...\n",
      "  Reporte guardado en: estadisticas/embedding_stats.csv\n",
      "\n",
      "Estadísticas por novela:\n",
      "                                   total_chunks  total_chars  avg_chunk_size\n",
      "novela                                                                      \n",
      "La_de_Bringas_314648                        638       469846      736.435737\n",
      "El_sombrero_de_tres_picos_pg29506           584       502891      861.114726\n",
      "Tristana_pg66979                            478       346367      724.617155\n",
      "La_gaviota_pg23600                          743       598600      805.652759\n",
      "Pepita_Jimenez_pg17223                      472       357432      757.271186\n",
      "Su_unico_hijo_pg17341                       757       583038      770.195509\n",
      "La_desheredada_pg25956                     1217       907676      745.830731\n",
      "Peñas_arriba_pg24127                       1117       832407      745.216652\n",
      "Platero_y_yo_pg9980                         295       242984      823.674576\n",
      "Los_pazos_de_Ulloa_18005-8_UTF8             741       557763      752.716599\n",
      "\n",
      "Estadísticas generales:\n",
      "  Total chunks: 7042\n",
      "  Total caracteres: 5,399,004\n",
      "  Tamaño promedio de chunk: 766.69\n",
      "  Documentos en Chroma: 7042\n"
     ]
    }
   ],
   "source": [
    "# Generamos reporte\n",
    "generar_reporte_coleccion(collection, chunks_info, directorio_stats)"
   ]
  },
  {
   "cell_type": "markdown",
   "id": "c8f6432e",
   "metadata": {},
   "source": [
    "### Ejemplo de consulta"
   ]
  },
  {
   "cell_type": "code",
   "execution_count": 19,
   "id": "7546e406",
   "metadata": {},
   "outputs": [
    {
     "name": "stdout",
     "output_type": "stream",
     "text": [
      "\n",
      "Realizando consulta: 'amor y romance'\n",
      "  Encontrados 3 resultados\n",
      "\n",
      "Resultado 1 (distancia: 0.1775):\n",
      "  Novela: Su_unico_hijo_pg17341\n",
      "  Chunk: 504\n",
      "  Texto: No esperaba milagros. No le gustaban siquiera. El milagro era un\n",
      "absurdo, algo contra la fría razón, y él quería método, orden, una ley\n",
      "en todo, ley constante, sin excepción. El milagro era romántico,...\n",
      "\n",
      "Resultado 2 (distancia: 0.1791):\n",
      "  Novela: La_desheredada_pg25956\n",
      "  Chunk: 700\n",
      "  Texto: casa que trabajaba en romances de ciegos y aleluyas. El material de\n",
      "planchas y grabados era inmenso, y se lo dieron por un pedazo de pan.\n",
      "Montó también esta especulación en gran escala, y los ciegos p...\n",
      "\n",
      "Resultado 3 (distancia: 0.1880):\n",
      "  Novela: Su_unico_hijo_pg17341\n",
      "  Chunk: 12\n",
      "  Texto: ilustre Colegio, a sus solas, era romántico también, aunque algo viejo,\n",
      "y tocaba la flauta con mucho sentimiento, pero jamás en público. Emma,\n",
      "después de pensarlo, no tuvo inconveniente en que la flau...\n",
      "----------------------------------------\n",
      "\n",
      "Realizando consulta: 'guerra y conflicto'\n",
      "  Encontrados 3 resultados\n",
      "\n",
      "Resultado 1 (distancia: 0.1430):\n",
      "  Novela: La_gaviota_pg23600\n",
      "  Chunk: 10\n",
      "  Texto: --¡A la guerra!--exclamó el español al considerar el aspecto bondadoso,\n",
      "suave, casi humilde y muy poco belicoso del alemán--. ¿Pues qué, sois\n",
      "militar?\n",
      "\n",
      "--No, señor, no es esa mi vocación. Ni mi afició...\n",
      "\n",
      "Resultado 2 (distancia: 0.1620):\n",
      "  Novela: Los_pazos_de_Ulloa_18005-8_UTF8\n",
      "  Chunk: 27\n",
      "  Texto: para cogerlo, y la perra, torciendo la cabeza, lanzó una feroz\n",
      "dentellada, que por fortuna sólo alcanzó la manga del chico, obligándole\n",
      "a refugiarse más que de prisa, asustado y lloriqueando, entre la...\n",
      "\n",
      "Resultado 3 (distancia: 0.1632):\n",
      "  Novela: La_gaviota_pg23600\n",
      "  Chunk: 687\n",
      "  Texto: Pero nada había causado tanta admiración en nuestros amigos, los\n",
      "habitantes de Villamar, como la mudanza que se observaba en la tienda\n",
      "del barbero Ramón Pérez.\n",
      "\n",
      "Ramón Pérez, después de la muerte de su...\n",
      "----------------------------------------\n",
      "\n",
      "Realizando consulta: 'personajes principales'\n",
      "  Encontrados 3 resultados\n",
      "\n",
      "Resultado 1 (distancia: 0.1692):\n",
      "  Novela: Peñas_arriba_pg24127\n",
      "  Chunk: 769\n",
      "  Texto: ingratitudes. Pero si en el fondo no era nueva la escena para mí,\n",
      "éranlo, hasta embelesarme, aquellos pintorescos matices de lengua;\n",
      "aquella dialéctica a la buena de Dios, sin andamiajes retóricos ni\n",
      "...\n",
      "\n",
      "Resultado 2 (distancia: 0.1692):\n",
      "  Novela: La_desheredada_pg25956\n",
      "  Chunk: 189\n",
      "  Texto: «Pero a eso que llamas paraíso, ¿van personas?...\n",
      "\n",
      "--¿Personas decentes?... Lo más decente de Madrid, la flor y nata».\n",
      "\n",
      "Como no estaba bien que ella saliese sola con Miquis por la noche,\n",
      "convinieron e...\n",
      "\n",
      "Resultado 3 (distancia: 0.1714):\n",
      "  Novela: Peñas_arriba_pg24127\n",
      "  Chunk: 967\n",
      "  Texto: instancia, obligándole a practicar unas diligencias que le entretuvieron\n",
      "cerca de dos horas... todo respecto a la «trigedia» del día anterior,\n",
      "que yo debía conocer, y para eso, la verdad fuera dicha, ...\n",
      "----------------------------------------\n",
      "\n",
      "Realizando consulta: 'descripción de paisajes'\n",
      "  Encontrados 3 resultados\n",
      "\n",
      "Resultado 1 (distancia: 0.0980):\n",
      "  Novela: Peñas_arriba_pg24127\n",
      "  Chunk: 989\n",
      "  Texto: --Del que mejor le parezca a usted--le dije--, o de los dos juntos... En\n",
      "fin, póngase usted en mi caso, y hábleme con franqueza....\n",
      "\n",
      "Resultado 2 (distancia: 0.1051):\n",
      "  Novela: La_desheredada_pg25956\n",
      "  Chunk: 679\n",
      "  Texto: de petitorio entre dos velas. ¡Qué bien repicaría ella en la bandeja, y\n",
      "que maña se daría para que cuantos entraran aflojasen pesetas y duros!\n",
      "La belleza de las postulantes aguza la caridad....\n",
      "\n",
      "Resultado 3 (distancia: 0.1115):\n",
      "  Novela: La_gaviota_pg23600\n",
      "  Chunk: 427\n",
      "  Texto: --De naipes--dijo la marquesa, impaciente....\n",
      "----------------------------------------\n",
      "\n",
      "¡Proceso completado exitosamente!\n",
      "  Embeddings guardados en Chroma\n",
      " Base de datos persistida en: ./chroma_novelas_db\n",
      " Estadísticas guardadas en: estadisticas\n"
     ]
    }
   ],
   "source": [
    "consultas_ejemplo = [\n",
    "    \"amor y romance\",\n",
    "    \"guerra y conflicto\",\n",
    "    \"personajes principales\",\n",
    "    \"descripción de paisajes\"\n",
    "]\n",
    "\n",
    "for consulta in consultas_ejemplo:\n",
    "    consultar_chroma(collection, model, consulta, n_results=3)\n",
    "    print(\"-\" * 40)\n",
    "\n",
    "print(f\"\\n¡Proceso completado exitosamente!\")\n",
    "print(f\"  Embeddings guardados en Chroma\")\n",
    "print(f\" Base de datos persistida en: ./chroma_novelas_db\")\n",
    "print(f\" Estadísticas guardadas en: {directorio_stats}\")"
   ]
  }
 ],
 "metadata": {
  "kernelspec": {
   "display_name": "chatbot",
   "language": "python",
   "name": "python3"
  },
  "language_info": {
   "codemirror_mode": {
    "name": "ipython",
    "version": 3
   },
   "file_extension": ".py",
   "mimetype": "text/x-python",
   "name": "python",
   "nbconvert_exporter": "python",
   "pygments_lexer": "ipython3",
   "version": "3.10.18"
  }
 },
 "nbformat": 4,
 "nbformat_minor": 5
}
