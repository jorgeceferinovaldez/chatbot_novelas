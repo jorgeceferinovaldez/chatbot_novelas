{
 "cells": [
  {
   "cell_type": "code",
   "execution_count": 1,
   "id": "19e06463",
   "metadata": {},
   "outputs": [],
   "source": [
    "import os\n",
    "from zipfile import ZipFile\n",
    "import gdown\n",
    "from tqdm.notebook import tqdm"
   ]
  },
  {
   "cell_type": "code",
   "execution_count": 2,
   "id": "073c4abb",
   "metadata": {},
   "outputs": [
    {
     "name": "stderr",
     "output_type": "stream",
     "text": [
      "Downloading...\n",
      "From: https://drive.google.com/uc?id=1Zz2gizDGzdM0tQbH8pJh3hZgaOVup60q\n",
      "To: /Users/jorgevaldez/temp/chatbot_novelas/novelas_txt/data.zip\n",
      "100%|██████████| 2.06M/2.06M [00:00<00:00, 14.1MB/s]\n"
     ]
    },
    {
     "data": {
      "text/plain": [
       "'novelas_txt/data.zip'"
      ]
     },
     "execution_count": 2,
     "metadata": {},
     "output_type": "execute_result"
    }
   ],
   "source": [
    "file_id = '1Zz2gizDGzdM0tQbH8pJh3hZgaOVup60q'\n",
    "url = f'https://drive.google.com/uc?id={file_id}'\n",
    "\n",
    "data_path = \"novelas_txt/\" # Defino el directorio de datos donde se guardará el archivo\n",
    "if not os.path.exists(data_path):\n",
    "    os.makedirs(data_path)  # Crea el directorio si no existe\n",
    "\n",
    "\n",
    "output_path = os.path.join(data_path, 'data.zip')\n",
    "\n",
    "gdown.download(url, output_path, quiet=False)"
   ]
  },
  {
   "cell_type": "code",
   "execution_count": 3,
   "id": "ce66f898",
   "metadata": {},
   "outputs": [
    {
     "name": "stdout",
     "output_type": "stream",
     "text": [
      "Descomprimiendo...\n"
     ]
    },
    {
     "data": {
      "application/vnd.jupyter.widget-view+json": {
       "model_id": "47861a641ba248a1ac465f618d10b8d2",
       "version_major": 2,
       "version_minor": 0
      },
      "text/plain": [
       "  0%|          | 0/18 [00:00<?, ?file/s]"
      ]
     },
     "metadata": {},
     "output_type": "display_data"
    }
   ],
   "source": [
    "print(\"Descomprimiendo...\")\n",
    "\n",
    "# descomprimir el archivo ZIP\n",
    "with ZipFile(output_path, 'r') as zip_ref:\n",
    "    # Obtener la lista de archivos en el ZIP\n",
    "    file_list = zip_ref.namelist()\n",
    "    \n",
    "    # Inicializar la barra de progreso\n",
    "    with tqdm(total=len(file_list), unit='file') as pbar:\n",
    "        for file in file_list:\n",
    "            zip_ref.extract(file, data_path)  # Extraer cada archivo\n",
    "            pbar.update(1)  # Actualizar la barra de progreso\n",
    "\n",
    "# Eliminar el archivo ZIP después de descomprimir\n",
    "os.remove(output_path)"
   ]
  }
 ],
 "metadata": {
  "kernelspec": {
   "display_name": "chatbot",
   "language": "python",
   "name": "python3"
  },
  "language_info": {
   "codemirror_mode": {
    "name": "ipython",
    "version": 3
   },
   "file_extension": ".py",
   "mimetype": "text/x-python",
   "name": "python",
   "nbconvert_exporter": "python",
   "pygments_lexer": "ipython3",
   "version": "3.10.18"
  }
 },
 "nbformat": 4,
 "nbformat_minor": 5
}
